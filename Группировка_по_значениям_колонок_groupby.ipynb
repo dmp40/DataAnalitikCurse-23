{
  "nbformat": 4,
  "nbformat_minor": 0,
  "metadata": {
    "colab": {
      "provenance": [],
      "include_colab_link": true
    },
    "kernelspec": {
      "name": "python3",
      "display_name": "Python 3"
    },
    "language_info": {
      "name": "python"
    }
  },
  "cells": [
    {
      "cell_type": "markdown",
      "metadata": {
        "id": "view-in-github",
        "colab_type": "text"
      },
      "source": [
        "<a href=\"https://colab.research.google.com/github/dmp40/DataAnalitikCurse-23/blob/storks/%D0%93%D1%80%D1%83%D0%BF%D0%BF%D0%B8%D1%80%D0%BE%D0%B2%D0%BA%D0%B0_%D0%BF%D0%BE_%D0%B7%D0%BD%D0%B0%D1%87%D0%B5%D0%BD%D0%B8%D1%8F%D0%BC_%D0%BA%D0%BE%D0%BB%D0%BE%D0%BD%D0%BE%D0%BA_groupby.ipynb\" target=\"_parent\"><img src=\"https://colab.research.google.com/assets/colab-badge.svg\" alt=\"Open In Colab\"/></a>"
      ]
    },
    {
      "cell_type": "markdown",
      "source": [
        "# Группировка по значениям колонок — groupby\n",
        "\n",
        "Группировка разделяет весь датасет на группы по значениям какой-либо колонки (или нескольких)."
      ],
      "metadata": {
        "id": "5yNu4IBMZ0Vg"
      }
    },
    {
      "cell_type": "markdown",
      "source": [
        "### Подгрузка датасета"
      ],
      "metadata": {
        "id": "PjJHZVog3dUb"
      }
    },
    {
      "cell_type": "markdown",
      "source": [
        "![](https://i.morioh.com/201029/1ab55536.webp)"
      ],
      "metadata": {
        "id": "uY-M0VmxbyrJ"
      }
    },
    {
      "cell_type": "code",
      "source": [
        "!gdown --id 1LjVzFpLoB0vfB1wSuc7PxZ0VyiJFNOVS\n",
        "import pandas as pd\n",
        "dataset = pd.read_csv('housing_market_dataset.csv')"
      ],
      "metadata": {
        "colab": {
          "base_uri": "https://localhost:8080/"
        },
        "id": "IkSuCGWcbSW3",
        "outputId": "dcd5f1c4-be54-48e4-a033-00401277aee7"
      },
      "execution_count": null,
      "outputs": [
        {
          "output_type": "stream",
          "name": "stdout",
          "text": [
            "/usr/local/lib/python3.10/dist-packages/gdown/cli.py:121: FutureWarning: Option `--id` was deprecated in version 4.3.1 and will be removed in 5.0. You don't need to pass it anymore to use a file ID.\n",
            "  warnings.warn(\n",
            "Downloading...\n",
            "From: https://drive.google.com/uc?id=1LjVzFpLoB0vfB1wSuc7PxZ0VyiJFNOVS\n",
            "To: /content/housing_market_dataset.csv\n",
            "100% 29.4M/29.4M [00:00<00:00, 38.5MB/s]\n"
          ]
        }
      ]
    },
    {
      "cell_type": "markdown",
      "source": [
        "### Кейс 1. Необходимо рассчитать среднюю цену квартир на разной стадии строительства"
      ],
      "metadata": {
        "id": "kddFJ6aw2AEw"
      }
    },
    {
      "cell_type": "code",
      "source": [
        "import re\n",
        "\n",
        "def clear_price(price):\n",
        "  return int(re.sub('\\D', '', price))\n",
        "dataset['Очищенная цена'] = dataset['Цена'].apply(clear_price)"
      ],
      "metadata": {
        "id": "NIldTFHG3S74"
      },
      "execution_count": null,
      "outputs": []
    },
    {
      "cell_type": "code",
      "source": [
        "dataset.groupby('Этап строительства')"
      ],
      "metadata": {
        "id": "wo-Wq25d2mYp",
        "colab": {
          "base_uri": "https://localhost:8080/"
        },
        "outputId": "196db7d3-80cf-4b37-ed5a-9979f1afd14d"
      },
      "execution_count": null,
      "outputs": [
        {
          "output_type": "execute_result",
          "data": {
            "text/plain": [
              "<pandas.core.groupby.generic.DataFrameGroupBy object at 0x7ff41693b610>"
            ]
          },
          "metadata": {},
          "execution_count": 5
        }
      ]
    },
    {
      "cell_type": "code",
      "source": [
        "groups = dataset.groupby('Этап строительства')\n",
        "groups_mean_price = groups['Очищенная цена'].mean()"
      ],
      "metadata": {
        "id": "mXlFXUsgXcl3"
      },
      "execution_count": null,
      "outputs": []
    },
    {
      "cell_type": "code",
      "source": [
        "groups_mean_price"
      ],
      "metadata": {
        "colab": {
          "base_uri": "https://localhost:8080/"
        },
        "id": "22XGnMOOPYja",
        "outputId": "57caaef2-64bd-4300-f9bd-a779eba5199d"
      },
      "execution_count": null,
      "outputs": [
        {
          "output_type": "execute_result",
          "data": {
            "text/plain": [
              "Этап строительства\n",
              "В проекте          2021.0\n",
              "Возведение стен    2021.0\n",
              "Заморожено         2018.0\n",
              "Котлован           1977.0\n",
              "Отделка            2020.0\n",
              "Площадка           2021.0\n",
              "Сдан               2021.0\n",
              "Name: Год постройки, dtype: float64"
            ]
          },
          "metadata": {},
          "execution_count": 16
        }
      ]
    },
    {
      "cell_type": "code",
      "source": [
        "groups_mean_price = groups_mean_price.astype(int)\n",
        "groups_mean_price"
      ],
      "metadata": {
        "id": "OPYxFyGhAAA2",
        "colab": {
          "base_uri": "https://localhost:8080/"
        },
        "outputId": "df82ab08-2400-4f71-a9f0-ee1268578930"
      },
      "execution_count": null,
      "outputs": [
        {
          "output_type": "execute_result",
          "data": {
            "text/plain": [
              "Тип здания\n",
              "Блочное                 3450000\n",
              "Кирпичное               2000000\n",
              "Монолитно-кирпичное     1750000\n",
              "Монолитно-кирпичный     6400000\n",
              "Монолитное               612000\n",
              "Монолитный              4385000\n",
              "Панельно-кирпичное      6950000\n",
              "Панельное               1800000\n",
              "Панельный              11700000\n",
              "Сталинское              9150000\n",
              "Name: Очищенная цена, dtype: int64"
            ]
          },
          "metadata": {},
          "execution_count": 10
        }
      ]
    },
    {
      "cell_type": "markdown",
      "source": [
        "### Кейс 2. Необходимо рассчитать среднюю цену квартир в зависимости от стадии строительства и класса жилья."
      ],
      "metadata": {
        "id": "OW69lD6z3qQQ"
      }
    },
    {
      "cell_type": "code",
      "source": [
        "dataset.groupby(['Этап строительства', 'Класс жилья'])"
      ],
      "metadata": {
        "id": "HFzHjzT1jLfu",
        "colab": {
          "base_uri": "https://localhost:8080/"
        },
        "outputId": "2c6b839a-12e5-4239-8cae-257c71b10ec6"
      },
      "execution_count": null,
      "outputs": [
        {
          "output_type": "execute_result",
          "data": {
            "text/plain": [
              "<pandas.core.groupby.generic.DataFrameGroupBy object at 0x7ff41691cf50>"
            ]
          },
          "metadata": {},
          "execution_count": 11
        }
      ]
    },
    {
      "cell_type": "code",
      "source": [
        "groups_mean_price = dataset.groupby(['Этап строительства', 'Класс жилья'])['Очищенная цена'].mean()\n",
        "groups_mean_price = groups_mean_price.astype(int)\n",
        "groups_mean_price"
      ],
      "metadata": {
        "id": "BSzMWADsB_QG",
        "colab": {
          "base_uri": "https://localhost:8080/"
        },
        "outputId": "72b3c063-3ec1-40c8-f90f-36fa8f638053"
      },
      "execution_count": null,
      "outputs": [
        {
          "output_type": "execute_result",
          "data": {
            "text/plain": [
              "Этап строительства  Тип здания         \n",
              "В проекте           Кирпичное              10050000\n",
              "                    Монолитное              5656425\n",
              "Возведение стен     Блочное                 6050000\n",
              "                    Кирпичное              11828050\n",
              "                    Монолитно-кирпичное    15585614\n",
              "                    Монолитное              8632154\n",
              "                    Панельное               6883870\n",
              "Заморожено          Кирпичное               8750000\n",
              "                    Монолитное              9600000\n",
              "                    Панельное               7999000\n",
              "Котлован            Блочное                 6700000\n",
              "                    Монолитное              8737015\n",
              "                    Панельное               6651120\n",
              "Отделка             Блочное                 9050000\n",
              "                    Кирпичное               8571250\n",
              "                    Монолитно-кирпичное     6002112\n",
              "                    Монолитно-кирпичный    22297600\n",
              "                    Монолитное             13168400\n",
              "                    Монолитный              5108000\n",
              "                    Панельное               7250000\n",
              "Площадка            Блочное                10650000\n",
              "                    Монолитное             10405200\n",
              "                    Панельное               5248880\n",
              "Сдан                Блочное                 7500000\n",
              "                    Кирпичное               8700000\n",
              "                    Монолитно-кирпичное    28639317\n",
              "                    Монолитно-кирпичный    28500000\n",
              "                    Монолитное             10360000\n",
              "                    Монолитный             13826930\n",
              "                    Панельное               7200000\n",
              "                    Панельный              13950000\n",
              "Name: Очищенная цена, dtype: int64"
            ]
          },
          "metadata": {},
          "execution_count": 18
        }
      ]
    },
    {
      "cell_type": "code",
      "source": [
        "groups_mean_price = dataset.groupby(['Этап строительства', 'Класс жилья'], as_index=False)['Очищенная цена'].mean()\n",
        "groups_mean_price"
      ],
      "metadata": {
        "id": "qUtFeZxQHNc3",
        "colab": {
          "base_uri": "https://localhost:8080/",
          "height": 708
        },
        "outputId": "aaf70835-9aec-4e49-bcd6-a7b93a35f9d0"
      },
      "execution_count": null,
      "outputs": [
        {
          "output_type": "execute_result",
          "data": {
            "text/plain": [
              "   Этап строительства    Класс жилья  Очищенная цена\n",
              "0           В проекте   Бизнес класс    1.785475e+07\n",
              "1           В проекте  Комфорт класс    5.876690e+06\n",
              "2           В проекте     Элит класс    7.300000e+06\n",
              "3     Возведение стен   Бизнес класс    1.483284e+07\n",
              "4     Возведение стен  Комфорт класс    5.993096e+06\n",
              "5     Возведение стен   Эконом класс    6.564340e+06\n",
              "6     Возведение стен     Элит класс    3.039045e+07\n",
              "7          Заморожено   Бизнес класс    8.750000e+06\n",
              "8          Заморожено   Эконом класс    8.799500e+06\n",
              "9            Котлован   Бизнес класс    6.100000e+06\n",
              "10           Котлован  Комфорт класс    8.611092e+06\n",
              "11           Котлован   Эконом класс    7.300000e+06\n",
              "12            Отделка   Бизнес класс    1.480065e+07\n",
              "13            Отделка  Комфорт класс    6.862173e+06\n",
              "14            Отделка     Элит класс    3.138341e+07\n",
              "15           Площадка   Бизнес класс    1.103328e+07\n",
              "16           Площадка  Комфорт класс    1.008311e+07\n",
              "17               Сдан   Бизнес класс    1.556170e+07\n",
              "18               Сдан  Комфорт класс    7.677025e+06\n",
              "19               Сдан   Эконом класс    8.259169e+06\n",
              "20               Сдан     Элит класс    6.165063e+07"
            ],
            "text/html": [
              "\n",
              "  <div id=\"df-ea5cf855-2351-4e92-8dc1-d926fe6f147f\">\n",
              "    <div class=\"colab-df-container\">\n",
              "      <div>\n",
              "<style scoped>\n",
              "    .dataframe tbody tr th:only-of-type {\n",
              "        vertical-align: middle;\n",
              "    }\n",
              "\n",
              "    .dataframe tbody tr th {\n",
              "        vertical-align: top;\n",
              "    }\n",
              "\n",
              "    .dataframe thead th {\n",
              "        text-align: right;\n",
              "    }\n",
              "</style>\n",
              "<table border=\"1\" class=\"dataframe\">\n",
              "  <thead>\n",
              "    <tr style=\"text-align: right;\">\n",
              "      <th></th>\n",
              "      <th>Этап строительства</th>\n",
              "      <th>Класс жилья</th>\n",
              "      <th>Очищенная цена</th>\n",
              "    </tr>\n",
              "  </thead>\n",
              "  <tbody>\n",
              "    <tr>\n",
              "      <th>0</th>\n",
              "      <td>В проекте</td>\n",
              "      <td>Бизнес класс</td>\n",
              "      <td>1.785475e+07</td>\n",
              "    </tr>\n",
              "    <tr>\n",
              "      <th>1</th>\n",
              "      <td>В проекте</td>\n",
              "      <td>Комфорт класс</td>\n",
              "      <td>5.876690e+06</td>\n",
              "    </tr>\n",
              "    <tr>\n",
              "      <th>2</th>\n",
              "      <td>В проекте</td>\n",
              "      <td>Элит класс</td>\n",
              "      <td>7.300000e+06</td>\n",
              "    </tr>\n",
              "    <tr>\n",
              "      <th>3</th>\n",
              "      <td>Возведение стен</td>\n",
              "      <td>Бизнес класс</td>\n",
              "      <td>1.483284e+07</td>\n",
              "    </tr>\n",
              "    <tr>\n",
              "      <th>4</th>\n",
              "      <td>Возведение стен</td>\n",
              "      <td>Комфорт класс</td>\n",
              "      <td>5.993096e+06</td>\n",
              "    </tr>\n",
              "    <tr>\n",
              "      <th>5</th>\n",
              "      <td>Возведение стен</td>\n",
              "      <td>Эконом класс</td>\n",
              "      <td>6.564340e+06</td>\n",
              "    </tr>\n",
              "    <tr>\n",
              "      <th>6</th>\n",
              "      <td>Возведение стен</td>\n",
              "      <td>Элит класс</td>\n",
              "      <td>3.039045e+07</td>\n",
              "    </tr>\n",
              "    <tr>\n",
              "      <th>7</th>\n",
              "      <td>Заморожено</td>\n",
              "      <td>Бизнес класс</td>\n",
              "      <td>8.750000e+06</td>\n",
              "    </tr>\n",
              "    <tr>\n",
              "      <th>8</th>\n",
              "      <td>Заморожено</td>\n",
              "      <td>Эконом класс</td>\n",
              "      <td>8.799500e+06</td>\n",
              "    </tr>\n",
              "    <tr>\n",
              "      <th>9</th>\n",
              "      <td>Котлован</td>\n",
              "      <td>Бизнес класс</td>\n",
              "      <td>6.100000e+06</td>\n",
              "    </tr>\n",
              "    <tr>\n",
              "      <th>10</th>\n",
              "      <td>Котлован</td>\n",
              "      <td>Комфорт класс</td>\n",
              "      <td>8.611092e+06</td>\n",
              "    </tr>\n",
              "    <tr>\n",
              "      <th>11</th>\n",
              "      <td>Котлован</td>\n",
              "      <td>Эконом класс</td>\n",
              "      <td>7.300000e+06</td>\n",
              "    </tr>\n",
              "    <tr>\n",
              "      <th>12</th>\n",
              "      <td>Отделка</td>\n",
              "      <td>Бизнес класс</td>\n",
              "      <td>1.480065e+07</td>\n",
              "    </tr>\n",
              "    <tr>\n",
              "      <th>13</th>\n",
              "      <td>Отделка</td>\n",
              "      <td>Комфорт класс</td>\n",
              "      <td>6.862173e+06</td>\n",
              "    </tr>\n",
              "    <tr>\n",
              "      <th>14</th>\n",
              "      <td>Отделка</td>\n",
              "      <td>Элит класс</td>\n",
              "      <td>3.138341e+07</td>\n",
              "    </tr>\n",
              "    <tr>\n",
              "      <th>15</th>\n",
              "      <td>Площадка</td>\n",
              "      <td>Бизнес класс</td>\n",
              "      <td>1.103328e+07</td>\n",
              "    </tr>\n",
              "    <tr>\n",
              "      <th>16</th>\n",
              "      <td>Площадка</td>\n",
              "      <td>Комфорт класс</td>\n",
              "      <td>1.008311e+07</td>\n",
              "    </tr>\n",
              "    <tr>\n",
              "      <th>17</th>\n",
              "      <td>Сдан</td>\n",
              "      <td>Бизнес класс</td>\n",
              "      <td>1.556170e+07</td>\n",
              "    </tr>\n",
              "    <tr>\n",
              "      <th>18</th>\n",
              "      <td>Сдан</td>\n",
              "      <td>Комфорт класс</td>\n",
              "      <td>7.677025e+06</td>\n",
              "    </tr>\n",
              "    <tr>\n",
              "      <th>19</th>\n",
              "      <td>Сдан</td>\n",
              "      <td>Эконом класс</td>\n",
              "      <td>8.259169e+06</td>\n",
              "    </tr>\n",
              "    <tr>\n",
              "      <th>20</th>\n",
              "      <td>Сдан</td>\n",
              "      <td>Элит класс</td>\n",
              "      <td>6.165063e+07</td>\n",
              "    </tr>\n",
              "  </tbody>\n",
              "</table>\n",
              "</div>\n",
              "      <button class=\"colab-df-convert\" onclick=\"convertToInteractive('df-ea5cf855-2351-4e92-8dc1-d926fe6f147f')\"\n",
              "              title=\"Convert this dataframe to an interactive table.\"\n",
              "              style=\"display:none;\">\n",
              "        \n",
              "  <svg xmlns=\"http://www.w3.org/2000/svg\" height=\"24px\"viewBox=\"0 0 24 24\"\n",
              "       width=\"24px\">\n",
              "    <path d=\"M0 0h24v24H0V0z\" fill=\"none\"/>\n",
              "    <path d=\"M18.56 5.44l.94 2.06.94-2.06 2.06-.94-2.06-.94-.94-2.06-.94 2.06-2.06.94zm-11 1L8.5 8.5l.94-2.06 2.06-.94-2.06-.94L8.5 2.5l-.94 2.06-2.06.94zm10 10l.94 2.06.94-2.06 2.06-.94-2.06-.94-.94-2.06-.94 2.06-2.06.94z\"/><path d=\"M17.41 7.96l-1.37-1.37c-.4-.4-.92-.59-1.43-.59-.52 0-1.04.2-1.43.59L10.3 9.45l-7.72 7.72c-.78.78-.78 2.05 0 2.83L4 21.41c.39.39.9.59 1.41.59.51 0 1.02-.2 1.41-.59l7.78-7.78 2.81-2.81c.8-.78.8-2.07 0-2.86zM5.41 20L4 18.59l7.72-7.72 1.47 1.35L5.41 20z\"/>\n",
              "  </svg>\n",
              "      </button>\n",
              "      \n",
              "  <style>\n",
              "    .colab-df-container {\n",
              "      display:flex;\n",
              "      flex-wrap:wrap;\n",
              "      gap: 12px;\n",
              "    }\n",
              "\n",
              "    .colab-df-convert {\n",
              "      background-color: #E8F0FE;\n",
              "      border: none;\n",
              "      border-radius: 50%;\n",
              "      cursor: pointer;\n",
              "      display: none;\n",
              "      fill: #1967D2;\n",
              "      height: 32px;\n",
              "      padding: 0 0 0 0;\n",
              "      width: 32px;\n",
              "    }\n",
              "\n",
              "    .colab-df-convert:hover {\n",
              "      background-color: #E2EBFA;\n",
              "      box-shadow: 0px 1px 2px rgba(60, 64, 67, 0.3), 0px 1px 3px 1px rgba(60, 64, 67, 0.15);\n",
              "      fill: #174EA6;\n",
              "    }\n",
              "\n",
              "    [theme=dark] .colab-df-convert {\n",
              "      background-color: #3B4455;\n",
              "      fill: #D2E3FC;\n",
              "    }\n",
              "\n",
              "    [theme=dark] .colab-df-convert:hover {\n",
              "      background-color: #434B5C;\n",
              "      box-shadow: 0px 1px 3px 1px rgba(0, 0, 0, 0.15);\n",
              "      filter: drop-shadow(0px 1px 2px rgba(0, 0, 0, 0.3));\n",
              "      fill: #FFFFFF;\n",
              "    }\n",
              "  </style>\n",
              "\n",
              "      <script>\n",
              "        const buttonEl =\n",
              "          document.querySelector('#df-ea5cf855-2351-4e92-8dc1-d926fe6f147f button.colab-df-convert');\n",
              "        buttonEl.style.display =\n",
              "          google.colab.kernel.accessAllowed ? 'block' : 'none';\n",
              "\n",
              "        async function convertToInteractive(key) {\n",
              "          const element = document.querySelector('#df-ea5cf855-2351-4e92-8dc1-d926fe6f147f');\n",
              "          const dataTable =\n",
              "            await google.colab.kernel.invokeFunction('convertToInteractive',\n",
              "                                                     [key], {});\n",
              "          if (!dataTable) return;\n",
              "\n",
              "          const docLinkHtml = 'Like what you see? Visit the ' +\n",
              "            '<a target=\"_blank\" href=https://colab.research.google.com/notebooks/data_table.ipynb>data table notebook</a>'\n",
              "            + ' to learn more about interactive tables.';\n",
              "          element.innerHTML = '';\n",
              "          dataTable['output_type'] = 'display_data';\n",
              "          await google.colab.output.renderOutput(dataTable, element);\n",
              "          const docLink = document.createElement('div');\n",
              "          docLink.innerHTML = docLinkHtml;\n",
              "          element.appendChild(docLink);\n",
              "        }\n",
              "      </script>\n",
              "    </div>\n",
              "  </div>\n",
              "  "
            ]
          },
          "metadata": {},
          "execution_count": 13
        }
      ]
    },
    {
      "cell_type": "code",
      "source": [
        "groups_mean_price['Очищенная цена'] = groups_mean_price['Очищенная цена'].astype(int)\n",
        "groups_mean_price"
      ],
      "metadata": {
        "id": "hDfXA6jIHaKT",
        "colab": {
          "base_uri": "https://localhost:8080/",
          "height": 708
        },
        "outputId": "38acea88-b0ad-4f44-eec4-5b1353506cac"
      },
      "execution_count": null,
      "outputs": [
        {
          "output_type": "execute_result",
          "data": {
            "text/plain": [
              "   Этап строительства    Класс жилья  Очищенная цена\n",
              "0           В проекте   Бизнес класс        17854750\n",
              "1           В проекте  Комфорт класс         5876689\n",
              "2           В проекте     Элит класс         7300000\n",
              "3     Возведение стен   Бизнес класс        14832840\n",
              "4     Возведение стен  Комфорт класс         5993095\n",
              "5     Возведение стен   Эконом класс         6564340\n",
              "6     Возведение стен     Элит класс        30390451\n",
              "7          Заморожено   Бизнес класс         8750000\n",
              "8          Заморожено   Эконом класс         8799500\n",
              "9            Котлован   Бизнес класс         6100000\n",
              "10           Котлован  Комфорт класс         8611092\n",
              "11           Котлован   Эконом класс         7300000\n",
              "12            Отделка   Бизнес класс        14800645\n",
              "13            Отделка  Комфорт класс         6862173\n",
              "14            Отделка     Элит класс        31383414\n",
              "15           Площадка   Бизнес класс        11033281\n",
              "16           Площадка  Комфорт класс        10083113\n",
              "17               Сдан   Бизнес класс        15561696\n",
              "18               Сдан  Комфорт класс         7677024\n",
              "19               Сдан   Эконом класс         8259168\n",
              "20               Сдан     Элит класс        61650630"
            ],
            "text/html": [
              "\n",
              "  <div id=\"df-540a1b8f-2ae2-4ee3-b28a-62fd17872097\">\n",
              "    <div class=\"colab-df-container\">\n",
              "      <div>\n",
              "<style scoped>\n",
              "    .dataframe tbody tr th:only-of-type {\n",
              "        vertical-align: middle;\n",
              "    }\n",
              "\n",
              "    .dataframe tbody tr th {\n",
              "        vertical-align: top;\n",
              "    }\n",
              "\n",
              "    .dataframe thead th {\n",
              "        text-align: right;\n",
              "    }\n",
              "</style>\n",
              "<table border=\"1\" class=\"dataframe\">\n",
              "  <thead>\n",
              "    <tr style=\"text-align: right;\">\n",
              "      <th></th>\n",
              "      <th>Этап строительства</th>\n",
              "      <th>Класс жилья</th>\n",
              "      <th>Очищенная цена</th>\n",
              "    </tr>\n",
              "  </thead>\n",
              "  <tbody>\n",
              "    <tr>\n",
              "      <th>0</th>\n",
              "      <td>В проекте</td>\n",
              "      <td>Бизнес класс</td>\n",
              "      <td>17854750</td>\n",
              "    </tr>\n",
              "    <tr>\n",
              "      <th>1</th>\n",
              "      <td>В проекте</td>\n",
              "      <td>Комфорт класс</td>\n",
              "      <td>5876689</td>\n",
              "    </tr>\n",
              "    <tr>\n",
              "      <th>2</th>\n",
              "      <td>В проекте</td>\n",
              "      <td>Элит класс</td>\n",
              "      <td>7300000</td>\n",
              "    </tr>\n",
              "    <tr>\n",
              "      <th>3</th>\n",
              "      <td>Возведение стен</td>\n",
              "      <td>Бизнес класс</td>\n",
              "      <td>14832840</td>\n",
              "    </tr>\n",
              "    <tr>\n",
              "      <th>4</th>\n",
              "      <td>Возведение стен</td>\n",
              "      <td>Комфорт класс</td>\n",
              "      <td>5993095</td>\n",
              "    </tr>\n",
              "    <tr>\n",
              "      <th>5</th>\n",
              "      <td>Возведение стен</td>\n",
              "      <td>Эконом класс</td>\n",
              "      <td>6564340</td>\n",
              "    </tr>\n",
              "    <tr>\n",
              "      <th>6</th>\n",
              "      <td>Возведение стен</td>\n",
              "      <td>Элит класс</td>\n",
              "      <td>30390451</td>\n",
              "    </tr>\n",
              "    <tr>\n",
              "      <th>7</th>\n",
              "      <td>Заморожено</td>\n",
              "      <td>Бизнес класс</td>\n",
              "      <td>8750000</td>\n",
              "    </tr>\n",
              "    <tr>\n",
              "      <th>8</th>\n",
              "      <td>Заморожено</td>\n",
              "      <td>Эконом класс</td>\n",
              "      <td>8799500</td>\n",
              "    </tr>\n",
              "    <tr>\n",
              "      <th>9</th>\n",
              "      <td>Котлован</td>\n",
              "      <td>Бизнес класс</td>\n",
              "      <td>6100000</td>\n",
              "    </tr>\n",
              "    <tr>\n",
              "      <th>10</th>\n",
              "      <td>Котлован</td>\n",
              "      <td>Комфорт класс</td>\n",
              "      <td>8611092</td>\n",
              "    </tr>\n",
              "    <tr>\n",
              "      <th>11</th>\n",
              "      <td>Котлован</td>\n",
              "      <td>Эконом класс</td>\n",
              "      <td>7300000</td>\n",
              "    </tr>\n",
              "    <tr>\n",
              "      <th>12</th>\n",
              "      <td>Отделка</td>\n",
              "      <td>Бизнес класс</td>\n",
              "      <td>14800645</td>\n",
              "    </tr>\n",
              "    <tr>\n",
              "      <th>13</th>\n",
              "      <td>Отделка</td>\n",
              "      <td>Комфорт класс</td>\n",
              "      <td>6862173</td>\n",
              "    </tr>\n",
              "    <tr>\n",
              "      <th>14</th>\n",
              "      <td>Отделка</td>\n",
              "      <td>Элит класс</td>\n",
              "      <td>31383414</td>\n",
              "    </tr>\n",
              "    <tr>\n",
              "      <th>15</th>\n",
              "      <td>Площадка</td>\n",
              "      <td>Бизнес класс</td>\n",
              "      <td>11033281</td>\n",
              "    </tr>\n",
              "    <tr>\n",
              "      <th>16</th>\n",
              "      <td>Площадка</td>\n",
              "      <td>Комфорт класс</td>\n",
              "      <td>10083113</td>\n",
              "    </tr>\n",
              "    <tr>\n",
              "      <th>17</th>\n",
              "      <td>Сдан</td>\n",
              "      <td>Бизнес класс</td>\n",
              "      <td>15561696</td>\n",
              "    </tr>\n",
              "    <tr>\n",
              "      <th>18</th>\n",
              "      <td>Сдан</td>\n",
              "      <td>Комфорт класс</td>\n",
              "      <td>7677024</td>\n",
              "    </tr>\n",
              "    <tr>\n",
              "      <th>19</th>\n",
              "      <td>Сдан</td>\n",
              "      <td>Эконом класс</td>\n",
              "      <td>8259168</td>\n",
              "    </tr>\n",
              "    <tr>\n",
              "      <th>20</th>\n",
              "      <td>Сдан</td>\n",
              "      <td>Элит класс</td>\n",
              "      <td>61650630</td>\n",
              "    </tr>\n",
              "  </tbody>\n",
              "</table>\n",
              "</div>\n",
              "      <button class=\"colab-df-convert\" onclick=\"convertToInteractive('df-540a1b8f-2ae2-4ee3-b28a-62fd17872097')\"\n",
              "              title=\"Convert this dataframe to an interactive table.\"\n",
              "              style=\"display:none;\">\n",
              "        \n",
              "  <svg xmlns=\"http://www.w3.org/2000/svg\" height=\"24px\"viewBox=\"0 0 24 24\"\n",
              "       width=\"24px\">\n",
              "    <path d=\"M0 0h24v24H0V0z\" fill=\"none\"/>\n",
              "    <path d=\"M18.56 5.44l.94 2.06.94-2.06 2.06-.94-2.06-.94-.94-2.06-.94 2.06-2.06.94zm-11 1L8.5 8.5l.94-2.06 2.06-.94-2.06-.94L8.5 2.5l-.94 2.06-2.06.94zm10 10l.94 2.06.94-2.06 2.06-.94-2.06-.94-.94-2.06-.94 2.06-2.06.94z\"/><path d=\"M17.41 7.96l-1.37-1.37c-.4-.4-.92-.59-1.43-.59-.52 0-1.04.2-1.43.59L10.3 9.45l-7.72 7.72c-.78.78-.78 2.05 0 2.83L4 21.41c.39.39.9.59 1.41.59.51 0 1.02-.2 1.41-.59l7.78-7.78 2.81-2.81c.8-.78.8-2.07 0-2.86zM5.41 20L4 18.59l7.72-7.72 1.47 1.35L5.41 20z\"/>\n",
              "  </svg>\n",
              "      </button>\n",
              "      \n",
              "  <style>\n",
              "    .colab-df-container {\n",
              "      display:flex;\n",
              "      flex-wrap:wrap;\n",
              "      gap: 12px;\n",
              "    }\n",
              "\n",
              "    .colab-df-convert {\n",
              "      background-color: #E8F0FE;\n",
              "      border: none;\n",
              "      border-radius: 50%;\n",
              "      cursor: pointer;\n",
              "      display: none;\n",
              "      fill: #1967D2;\n",
              "      height: 32px;\n",
              "      padding: 0 0 0 0;\n",
              "      width: 32px;\n",
              "    }\n",
              "\n",
              "    .colab-df-convert:hover {\n",
              "      background-color: #E2EBFA;\n",
              "      box-shadow: 0px 1px 2px rgba(60, 64, 67, 0.3), 0px 1px 3px 1px rgba(60, 64, 67, 0.15);\n",
              "      fill: #174EA6;\n",
              "    }\n",
              "\n",
              "    [theme=dark] .colab-df-convert {\n",
              "      background-color: #3B4455;\n",
              "      fill: #D2E3FC;\n",
              "    }\n",
              "\n",
              "    [theme=dark] .colab-df-convert:hover {\n",
              "      background-color: #434B5C;\n",
              "      box-shadow: 0px 1px 3px 1px rgba(0, 0, 0, 0.15);\n",
              "      filter: drop-shadow(0px 1px 2px rgba(0, 0, 0, 0.3));\n",
              "      fill: #FFFFFF;\n",
              "    }\n",
              "  </style>\n",
              "\n",
              "      <script>\n",
              "        const buttonEl =\n",
              "          document.querySelector('#df-540a1b8f-2ae2-4ee3-b28a-62fd17872097 button.colab-df-convert');\n",
              "        buttonEl.style.display =\n",
              "          google.colab.kernel.accessAllowed ? 'block' : 'none';\n",
              "\n",
              "        async function convertToInteractive(key) {\n",
              "          const element = document.querySelector('#df-540a1b8f-2ae2-4ee3-b28a-62fd17872097');\n",
              "          const dataTable =\n",
              "            await google.colab.kernel.invokeFunction('convertToInteractive',\n",
              "                                                     [key], {});\n",
              "          if (!dataTable) return;\n",
              "\n",
              "          const docLinkHtml = 'Like what you see? Visit the ' +\n",
              "            '<a target=\"_blank\" href=https://colab.research.google.com/notebooks/data_table.ipynb>data table notebook</a>'\n",
              "            + ' to learn more about interactive tables.';\n",
              "          element.innerHTML = '';\n",
              "          dataTable['output_type'] = 'display_data';\n",
              "          await google.colab.output.renderOutput(dataTable, element);\n",
              "          const docLink = document.createElement('div');\n",
              "          docLink.innerHTML = docLinkHtml;\n",
              "          element.appendChild(docLink);\n",
              "        }\n",
              "      </script>\n",
              "    </div>\n",
              "  </div>\n",
              "  "
            ]
          },
          "metadata": {},
          "execution_count": 15
        }
      ]
    },
    {
      "cell_type": "markdown",
      "source": [
        "### Шаблоны группировки по значениям колонок"
      ],
      "metadata": {
        "id": "DlR9EzMMArYt"
      }
    },
    {
      "cell_type": "code",
      "source": [
        "# Шаблон взятия среднего значения цены квартир сгруппированных по значениям Этапа строительства\n",
        "groups_mean_price = dataset.groupby('Этап строительства')['Очищенная цена'].mean()"
      ],
      "metadata": {
        "id": "8ftkVjf43p-o"
      },
      "execution_count": null,
      "outputs": []
    },
    {
      "cell_type": "code",
      "source": [
        "# Шаблон взятия среднего значения цены квартир сгруппированных по значениям колонок Этапа строительства и Класса жилья\n",
        "groups_mean_price = dataset.groupby(['Этап строительства', 'Класс жилья'], as_index=False)['Очищенная цена'].mean()\n",
        "groups_mean_price['Очищенная цена'] = groups_mean_price['Очищенная цена'].astype(int)"
      ],
      "metadata": {
        "id": "h8e2Ojoehipd"
      },
      "execution_count": null,
      "outputs": []
    }
  ]
}