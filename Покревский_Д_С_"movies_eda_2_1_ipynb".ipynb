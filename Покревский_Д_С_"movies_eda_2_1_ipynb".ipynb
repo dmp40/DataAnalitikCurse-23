{
  "cells": [
    {
      "cell_type": "markdown",
      "metadata": {
        "id": "view-in-github",
        "colab_type": "text"
      },
      "source": [
        "<a href=\"https://colab.research.google.com/github/dmp40/DataAnalitikCurse-23/blob/storks/%D0%9F%D0%BE%D0%BA%D1%80%D0%B5%D0%B2%D1%81%D0%BA%D0%B8%D0%B9_%D0%94_%D0%A1_%22movies_eda_2_1_ipynb%22.ipynb\" target=\"_parent\"><img src=\"https://colab.research.google.com/assets/colab-badge.svg\" alt=\"Open In Colab\"/></a>"
      ]
    },
    {
      "cell_type": "markdown",
      "source": [
        "# **Разведочный анализ по датасету IMDb Movies: 5000 фильмов с наибольшим рейтингом. Часть 2: Анализ количественных и категориальных признаков, а также взаимосвязи признаков**"
      ],
      "metadata": {
        "id": "L2Epn7UHiXfS"
      }
    },
    {
      "cell_type": "markdown",
      "source": [
        "![](https://adabul.com/wp-content/uploads/2020/04/diziler-360x240.jpg)"
      ],
      "metadata": {
        "id": "bRlt8IT50V6E"
      }
    },
    {
      "cell_type": "markdown",
      "source": [
        "## 1. Описание датасета и задания"
      ],
      "metadata": {
        "id": "0ht58TIfi___"
      }
    },
    {
      "cell_type": "markdown",
      "source": [
        "Представлен датасет с данными о 5000 фильмах, имеющих наибольший рейтинг на сайте IMDb (датасет выложен на платформе [Kaggle](https://www.kaggle.com/datasets/totoro29/imdb-movies))."
      ],
      "metadata": {
        "id": "ODZr1pzSjUEZ"
      }
    },
    {
      "cell_type": "markdown",
      "source": [
        "***Информация, содержащаяся в датасете:***\n",
        "1.   Ссылка на постер фильма (poster).\n",
        "2.   Наименование фильма (title).\n",
        "3.   Класс фильма по рейтингу the British Board of Film Classification (BBFC) (certificate).\n",
        "4.   Продолжительность фильма (runtime).\n",
        "5.   Жанр фильма (genre).\n",
        "6.   Рейтинг фильма на платформе IMBD (rating).\n",
        "7.   Описание сюжета фильма (about).\n",
        "8.   Кинорежиссер фильма (director).\n",
        "9.   Актеры-звезды фильма (stars).\n",
        "10.  Количество проголосовавших за фильм (votes).\n",
        "11.  Доход с фильма (gross_earn)."
      ],
      "metadata": {
        "id": "iWWmlDbT0blB"
      }
    },
    {
      "cell_type": "markdown",
      "source": [
        "***Задача:***\n",
        "провести разведочный анализ данных, найти взаимосвязи и сформулировать выводы."
      ],
      "metadata": {
        "id": "sDysJljz0fjg"
      }
    },
    {
      "cell_type": "markdown",
      "source": [
        "**В части 2 задания необходимо:**\n",
        "1.   Выполнить неграфический и графический анализ количественных признаков.\n",
        "2.   Выполнить неграфический и графический анализ категориальных признаков.\n",
        "3.   Выполнить анализ взаимосвязи двух количественных признаков.\n",
        "4.   Выполнить анализ взаимосвязи двух категориальных признаков.\n",
        "5.   Выполнить анализ взаимосвязи количественного и категориального признаков."
      ],
      "metadata": {
        "id": "9p3eZu8en6G2"
      }
    },
    {
      "cell_type": "markdown",
      "source": [
        "****Задания со звездочкой факультативные (дополнительные)***"
      ],
      "metadata": {
        "id": "HTuuCUIxH74Q"
      }
    },
    {
      "cell_type": "markdown",
      "source": [
        "## 2. Загрузка датасета"
      ],
      "metadata": {
        "id": "Tjg16j1yj7h3"
      }
    },
    {
      "cell_type": "markdown",
      "source": [
        "Импортируйте модуль files для подгрузки датасета с ПК"
      ],
      "metadata": {
        "id": "y49E3GkC9UX7"
      }
    },
    {
      "cell_type": "code",
      "source": [
        "from google.colab import files"
      ],
      "metadata": {
        "id": "HjA1iTVTqQo5"
      },
      "execution_count": 5,
      "outputs": []
    },
    {
      "cell_type": "markdown",
      "source": [
        "Загрузите файл movies_clean.csv (сохранен по итогу выполнения предыдущего задания) с помощью files.upload()"
      ],
      "metadata": {
        "id": "Xit-BLDS9c27"
      }
    },
    {
      "cell_type": "code",
      "source": [
        "files.upload()"
      ],
      "metadata": {
        "id": "6tIQ34wTqUCz"
      },
      "execution_count": null,
      "outputs": []
    },
    {
      "cell_type": "markdown",
      "source": [
        "## 3. Подгрузка данных в питон и начало работы с ними"
      ],
      "metadata": {
        "id": "Ui2UmktdkfBX"
      }
    },
    {
      "cell_type": "markdown",
      "source": [
        "Импортируйте библиотеку pandas и присвойте ей короткое название pd"
      ],
      "metadata": {
        "id": "q1wUeS8N-Ac4"
      }
    },
    {
      "cell_type": "code",
      "execution_count": 7,
      "metadata": {
        "id": "HDirS7pLCdac"
      },
      "outputs": [],
      "source": [
        "import pandas as pd"
      ]
    },
    {
      "cell_type": "markdown",
      "source": [
        "Откройте датасет movies_clean.csv и сохраните его в переменную dataset"
      ],
      "metadata": {
        "id": "jXLXQ-kY-B1E"
      }
    },
    {
      "cell_type": "code",
      "execution_count": 8,
      "metadata": {
        "id": "PXy_b8D-DYxq"
      },
      "outputs": [],
      "source": [
        "dataset = pd.read_csv('/content/movies_clean')"
      ]
    },
    {
      "cell_type": "markdown",
      "source": [
        "Проведите обзор таблицы с помощью метода head()"
      ],
      "metadata": {
        "id": "kYPjQVza-GMl"
      }
    },
    {
      "cell_type": "code",
      "source": [
        "dataset.head()"
      ],
      "metadata": {
        "id": "777NV7RZkwos",
        "colab": {
          "base_uri": "https://localhost:8080/",
          "height": 677
        },
        "outputId": "c0c5d22f-6756-4f8a-b897-988a3f48e894"
      },
      "execution_count": null,
      "outputs": [
        {
          "output_type": "execute_result",
          "data": {
            "text/plain": [
              "   Unnamed: 0                                             poster  \\\n",
              "0           0  https://m.media-amazon.com/images/S/sash/4Fyxw...   \n",
              "1           1  https://m.media-amazon.com/images/S/sash/4Fyxw...   \n",
              "2           2  https://m.media-amazon.com/images/S/sash/4Fyxw...   \n",
              "3           3  https://m.media-amazon.com/images/S/sash/4Fyxw...   \n",
              "4           4  https://m.media-amazon.com/images/S/sash/4Fyxw...   \n",
              "\n",
              "                                           title certificate  runtime  \\\n",
              "0                       The Shawshank Redemption          15  142 min   \n",
              "1                                 Hababam Sinifi         12A   87 min   \n",
              "2                                  The Godfather           X  175 min   \n",
              "3  The Lord of the Rings: The Return of the King         12A  201 min   \n",
              "4                                The Dark Knight         12A  152 min   \n",
              "\n",
              "                      genre  rating  \\\n",
              "0                     Drama     9.3   \n",
              "1             Comedy, Drama     9.2   \n",
              "2              Crime, Drama     9.2   \n",
              "3  Action, Adventure, Drama     9.0   \n",
              "4      Action, Crime, Drama     9.0   \n",
              "\n",
              "                                               about              director  \\\n",
              "0  Two imprisoned men bond over a number of years...        Frank Darabont   \n",
              "1  Lazy, uneducated students share a very close b...         Ertem Egilmez   \n",
              "2  The aging patriarch of an organized crime dyna...  Francis Ford Coppola   \n",
              "3  Gandalf and Aragorn lead the World of Men agai...         Peter Jackson   \n",
              "4  When the menace known as the Joker wreaks havo...     Christopher Nolan   \n",
              "\n",
              "                                               stars      votes gross_earn  \\\n",
              "0  ('Tim Robbins',), ('Morgan Freeman',), ('Bob G...  26,26,905    $28.34M   \n",
              "1  ('Kemal Sunal',), ('Münir Özkul',), ('Halit Ak...     40,492        NaN   \n",
              "2  ('Marlon Brando',), ('Al Pacino',), ('James Ca...  18,19,641   $134.97M   \n",
              "3  ('Elijah Wood',), ('Viggo Mortensen',), ('Ian ...  18,01,662   $377.85M   \n",
              "4  ('Christian Bale',), ('Heath Ledger',), ('Aaro...  25,98,173   $534.86M   \n",
              "\n",
              "   runtime_clear  gross_earn_clear  \n",
              "0            142            2834.0  \n",
              "1             87               NaN  \n",
              "2            175           13497.0  \n",
              "3            201           37785.0  \n",
              "4            152           53486.0  "
            ],
            "text/html": [
              "\n",
              "  <div id=\"df-998db693-8818-4705-8443-4a5d55ac0fc2\" class=\"colab-df-container\">\n",
              "    <div>\n",
              "<style scoped>\n",
              "    .dataframe tbody tr th:only-of-type {\n",
              "        vertical-align: middle;\n",
              "    }\n",
              "\n",
              "    .dataframe tbody tr th {\n",
              "        vertical-align: top;\n",
              "    }\n",
              "\n",
              "    .dataframe thead th {\n",
              "        text-align: right;\n",
              "    }\n",
              "</style>\n",
              "<table border=\"1\" class=\"dataframe\">\n",
              "  <thead>\n",
              "    <tr style=\"text-align: right;\">\n",
              "      <th></th>\n",
              "      <th>Unnamed: 0</th>\n",
              "      <th>poster</th>\n",
              "      <th>title</th>\n",
              "      <th>certificate</th>\n",
              "      <th>runtime</th>\n",
              "      <th>genre</th>\n",
              "      <th>rating</th>\n",
              "      <th>about</th>\n",
              "      <th>director</th>\n",
              "      <th>stars</th>\n",
              "      <th>votes</th>\n",
              "      <th>gross_earn</th>\n",
              "      <th>runtime_clear</th>\n",
              "      <th>gross_earn_clear</th>\n",
              "    </tr>\n",
              "  </thead>\n",
              "  <tbody>\n",
              "    <tr>\n",
              "      <th>0</th>\n",
              "      <td>0</td>\n",
              "      <td>https://m.media-amazon.com/images/S/sash/4Fyxw...</td>\n",
              "      <td>The Shawshank Redemption</td>\n",
              "      <td>15</td>\n",
              "      <td>142 min</td>\n",
              "      <td>Drama</td>\n",
              "      <td>9.3</td>\n",
              "      <td>Two imprisoned men bond over a number of years...</td>\n",
              "      <td>Frank Darabont</td>\n",
              "      <td>('Tim Robbins',), ('Morgan Freeman',), ('Bob G...</td>\n",
              "      <td>26,26,905</td>\n",
              "      <td>$28.34M</td>\n",
              "      <td>142</td>\n",
              "      <td>2834.0</td>\n",
              "    </tr>\n",
              "    <tr>\n",
              "      <th>1</th>\n",
              "      <td>1</td>\n",
              "      <td>https://m.media-amazon.com/images/S/sash/4Fyxw...</td>\n",
              "      <td>Hababam Sinifi</td>\n",
              "      <td>12A</td>\n",
              "      <td>87 min</td>\n",
              "      <td>Comedy, Drama</td>\n",
              "      <td>9.2</td>\n",
              "      <td>Lazy, uneducated students share a very close b...</td>\n",
              "      <td>Ertem Egilmez</td>\n",
              "      <td>('Kemal Sunal',), ('Münir Özkul',), ('Halit Ak...</td>\n",
              "      <td>40,492</td>\n",
              "      <td>NaN</td>\n",
              "      <td>87</td>\n",
              "      <td>NaN</td>\n",
              "    </tr>\n",
              "    <tr>\n",
              "      <th>2</th>\n",
              "      <td>2</td>\n",
              "      <td>https://m.media-amazon.com/images/S/sash/4Fyxw...</td>\n",
              "      <td>The Godfather</td>\n",
              "      <td>X</td>\n",
              "      <td>175 min</td>\n",
              "      <td>Crime, Drama</td>\n",
              "      <td>9.2</td>\n",
              "      <td>The aging patriarch of an organized crime dyna...</td>\n",
              "      <td>Francis Ford Coppola</td>\n",
              "      <td>('Marlon Brando',), ('Al Pacino',), ('James Ca...</td>\n",
              "      <td>18,19,641</td>\n",
              "      <td>$134.97M</td>\n",
              "      <td>175</td>\n",
              "      <td>13497.0</td>\n",
              "    </tr>\n",
              "    <tr>\n",
              "      <th>3</th>\n",
              "      <td>3</td>\n",
              "      <td>https://m.media-amazon.com/images/S/sash/4Fyxw...</td>\n",
              "      <td>The Lord of the Rings: The Return of the King</td>\n",
              "      <td>12A</td>\n",
              "      <td>201 min</td>\n",
              "      <td>Action, Adventure, Drama</td>\n",
              "      <td>9.0</td>\n",
              "      <td>Gandalf and Aragorn lead the World of Men agai...</td>\n",
              "      <td>Peter Jackson</td>\n",
              "      <td>('Elijah Wood',), ('Viggo Mortensen',), ('Ian ...</td>\n",
              "      <td>18,01,662</td>\n",
              "      <td>$377.85M</td>\n",
              "      <td>201</td>\n",
              "      <td>37785.0</td>\n",
              "    </tr>\n",
              "    <tr>\n",
              "      <th>4</th>\n",
              "      <td>4</td>\n",
              "      <td>https://m.media-amazon.com/images/S/sash/4Fyxw...</td>\n",
              "      <td>The Dark Knight</td>\n",
              "      <td>12A</td>\n",
              "      <td>152 min</td>\n",
              "      <td>Action, Crime, Drama</td>\n",
              "      <td>9.0</td>\n",
              "      <td>When the menace known as the Joker wreaks havo...</td>\n",
              "      <td>Christopher Nolan</td>\n",
              "      <td>('Christian Bale',), ('Heath Ledger',), ('Aaro...</td>\n",
              "      <td>25,98,173</td>\n",
              "      <td>$534.86M</td>\n",
              "      <td>152</td>\n",
              "      <td>53486.0</td>\n",
              "    </tr>\n",
              "  </tbody>\n",
              "</table>\n",
              "</div>\n",
              "    <div class=\"colab-df-buttons\">\n",
              "\n",
              "  <div class=\"colab-df-container\">\n",
              "    <button class=\"colab-df-convert\" onclick=\"convertToInteractive('df-998db693-8818-4705-8443-4a5d55ac0fc2')\"\n",
              "            title=\"Convert this dataframe to an interactive table.\"\n",
              "            style=\"display:none;\">\n",
              "\n",
              "  <svg xmlns=\"http://www.w3.org/2000/svg\" height=\"24px\" viewBox=\"0 -960 960 960\">\n",
              "    <path d=\"M120-120v-720h720v720H120Zm60-500h600v-160H180v160Zm220 220h160v-160H400v160Zm0 220h160v-160H400v160ZM180-400h160v-160H180v160Zm440 0h160v-160H620v160ZM180-180h160v-160H180v160Zm440 0h160v-160H620v160Z\"/>\n",
              "  </svg>\n",
              "    </button>\n",
              "\n",
              "  <style>\n",
              "    .colab-df-container {\n",
              "      display:flex;\n",
              "      gap: 12px;\n",
              "    }\n",
              "\n",
              "    .colab-df-convert {\n",
              "      background-color: #E8F0FE;\n",
              "      border: none;\n",
              "      border-radius: 50%;\n",
              "      cursor: pointer;\n",
              "      display: none;\n",
              "      fill: #1967D2;\n",
              "      height: 32px;\n",
              "      padding: 0 0 0 0;\n",
              "      width: 32px;\n",
              "    }\n",
              "\n",
              "    .colab-df-convert:hover {\n",
              "      background-color: #E2EBFA;\n",
              "      box-shadow: 0px 1px 2px rgba(60, 64, 67, 0.3), 0px 1px 3px 1px rgba(60, 64, 67, 0.15);\n",
              "      fill: #174EA6;\n",
              "    }\n",
              "\n",
              "    .colab-df-buttons div {\n",
              "      margin-bottom: 4px;\n",
              "    }\n",
              "\n",
              "    [theme=dark] .colab-df-convert {\n",
              "      background-color: #3B4455;\n",
              "      fill: #D2E3FC;\n",
              "    }\n",
              "\n",
              "    [theme=dark] .colab-df-convert:hover {\n",
              "      background-color: #434B5C;\n",
              "      box-shadow: 0px 1px 3px 1px rgba(0, 0, 0, 0.15);\n",
              "      filter: drop-shadow(0px 1px 2px rgba(0, 0, 0, 0.3));\n",
              "      fill: #FFFFFF;\n",
              "    }\n",
              "  </style>\n",
              "\n",
              "    <script>\n",
              "      const buttonEl =\n",
              "        document.querySelector('#df-998db693-8818-4705-8443-4a5d55ac0fc2 button.colab-df-convert');\n",
              "      buttonEl.style.display =\n",
              "        google.colab.kernel.accessAllowed ? 'block' : 'none';\n",
              "\n",
              "      async function convertToInteractive(key) {\n",
              "        const element = document.querySelector('#df-998db693-8818-4705-8443-4a5d55ac0fc2');\n",
              "        const dataTable =\n",
              "          await google.colab.kernel.invokeFunction('convertToInteractive',\n",
              "                                                    [key], {});\n",
              "        if (!dataTable) return;\n",
              "\n",
              "        const docLinkHtml = 'Like what you see? Visit the ' +\n",
              "          '<a target=\"_blank\" href=https://colab.research.google.com/notebooks/data_table.ipynb>data table notebook</a>'\n",
              "          + ' to learn more about interactive tables.';\n",
              "        element.innerHTML = '';\n",
              "        dataTable['output_type'] = 'display_data';\n",
              "        await google.colab.output.renderOutput(dataTable, element);\n",
              "        const docLink = document.createElement('div');\n",
              "        docLink.innerHTML = docLinkHtml;\n",
              "        element.appendChild(docLink);\n",
              "      }\n",
              "    </script>\n",
              "  </div>\n",
              "\n",
              "\n",
              "<div id=\"df-46ce2360-d151-4dee-9d5a-26d71abe9ea6\">\n",
              "  <button class=\"colab-df-quickchart\" onclick=\"quickchart('df-46ce2360-d151-4dee-9d5a-26d71abe9ea6')\"\n",
              "            title=\"Suggest charts.\"\n",
              "            style=\"display:none;\">\n",
              "\n",
              "<svg xmlns=\"http://www.w3.org/2000/svg\" height=\"24px\"viewBox=\"0 0 24 24\"\n",
              "     width=\"24px\">\n",
              "    <g>\n",
              "        <path d=\"M19 3H5c-1.1 0-2 .9-2 2v14c0 1.1.9 2 2 2h14c1.1 0 2-.9 2-2V5c0-1.1-.9-2-2-2zM9 17H7v-7h2v7zm4 0h-2V7h2v10zm4 0h-2v-4h2v4z\"/>\n",
              "    </g>\n",
              "</svg>\n",
              "  </button>\n",
              "\n",
              "<style>\n",
              "  .colab-df-quickchart {\n",
              "      --bg-color: #E8F0FE;\n",
              "      --fill-color: #1967D2;\n",
              "      --hover-bg-color: #E2EBFA;\n",
              "      --hover-fill-color: #174EA6;\n",
              "      --disabled-fill-color: #AAA;\n",
              "      --disabled-bg-color: #DDD;\n",
              "  }\n",
              "\n",
              "  [theme=dark] .colab-df-quickchart {\n",
              "      --bg-color: #3B4455;\n",
              "      --fill-color: #D2E3FC;\n",
              "      --hover-bg-color: #434B5C;\n",
              "      --hover-fill-color: #FFFFFF;\n",
              "      --disabled-bg-color: #3B4455;\n",
              "      --disabled-fill-color: #666;\n",
              "  }\n",
              "\n",
              "  .colab-df-quickchart {\n",
              "    background-color: var(--bg-color);\n",
              "    border: none;\n",
              "    border-radius: 50%;\n",
              "    cursor: pointer;\n",
              "    display: none;\n",
              "    fill: var(--fill-color);\n",
              "    height: 32px;\n",
              "    padding: 0;\n",
              "    width: 32px;\n",
              "  }\n",
              "\n",
              "  .colab-df-quickchart:hover {\n",
              "    background-color: var(--hover-bg-color);\n",
              "    box-shadow: 0 1px 2px rgba(60, 64, 67, 0.3), 0 1px 3px 1px rgba(60, 64, 67, 0.15);\n",
              "    fill: var(--button-hover-fill-color);\n",
              "  }\n",
              "\n",
              "  .colab-df-quickchart-complete:disabled,\n",
              "  .colab-df-quickchart-complete:disabled:hover {\n",
              "    background-color: var(--disabled-bg-color);\n",
              "    fill: var(--disabled-fill-color);\n",
              "    box-shadow: none;\n",
              "  }\n",
              "\n",
              "  .colab-df-spinner {\n",
              "    border: 2px solid var(--fill-color);\n",
              "    border-color: transparent;\n",
              "    border-bottom-color: var(--fill-color);\n",
              "    animation:\n",
              "      spin 1s steps(1) infinite;\n",
              "  }\n",
              "\n",
              "  @keyframes spin {\n",
              "    0% {\n",
              "      border-color: transparent;\n",
              "      border-bottom-color: var(--fill-color);\n",
              "      border-left-color: var(--fill-color);\n",
              "    }\n",
              "    20% {\n",
              "      border-color: transparent;\n",
              "      border-left-color: var(--fill-color);\n",
              "      border-top-color: var(--fill-color);\n",
              "    }\n",
              "    30% {\n",
              "      border-color: transparent;\n",
              "      border-left-color: var(--fill-color);\n",
              "      border-top-color: var(--fill-color);\n",
              "      border-right-color: var(--fill-color);\n",
              "    }\n",
              "    40% {\n",
              "      border-color: transparent;\n",
              "      border-right-color: var(--fill-color);\n",
              "      border-top-color: var(--fill-color);\n",
              "    }\n",
              "    60% {\n",
              "      border-color: transparent;\n",
              "      border-right-color: var(--fill-color);\n",
              "    }\n",
              "    80% {\n",
              "      border-color: transparent;\n",
              "      border-right-color: var(--fill-color);\n",
              "      border-bottom-color: var(--fill-color);\n",
              "    }\n",
              "    90% {\n",
              "      border-color: transparent;\n",
              "      border-bottom-color: var(--fill-color);\n",
              "    }\n",
              "  }\n",
              "</style>\n",
              "\n",
              "  <script>\n",
              "    async function quickchart(key) {\n",
              "      const quickchartButtonEl =\n",
              "        document.querySelector('#' + key + ' button');\n",
              "      quickchartButtonEl.disabled = true;  // To prevent multiple clicks.\n",
              "      quickchartButtonEl.classList.add('colab-df-spinner');\n",
              "      try {\n",
              "        const charts = await google.colab.kernel.invokeFunction(\n",
              "            'suggestCharts', [key], {});\n",
              "      } catch (error) {\n",
              "        console.error('Error during call to suggestCharts:', error);\n",
              "      }\n",
              "      quickchartButtonEl.classList.remove('colab-df-spinner');\n",
              "      quickchartButtonEl.classList.add('colab-df-quickchart-complete');\n",
              "    }\n",
              "    (() => {\n",
              "      let quickchartButtonEl =\n",
              "        document.querySelector('#df-46ce2360-d151-4dee-9d5a-26d71abe9ea6 button');\n",
              "      quickchartButtonEl.style.display =\n",
              "        google.colab.kernel.accessAllowed ? 'block' : 'none';\n",
              "    })();\n",
              "  </script>\n",
              "</div>\n",
              "    </div>\n",
              "  </div>\n"
            ]
          },
          "metadata": {},
          "execution_count": 9
        }
      ]
    },
    {
      "cell_type": "markdown",
      "source": [
        "Удалите столбец 'Unnamed: 0' как ненужный с помощью метода drop(), передав в него параметры columns и inplace=True"
      ],
      "metadata": {
        "id": "-ZBXKlsk-KBh"
      }
    },
    {
      "cell_type": "code",
      "source": [
        "dataset.drop(columns='Unnamed: 0', inplace=True)"
      ],
      "metadata": {
        "id": "memX1_CzI44-"
      },
      "execution_count": 9,
      "outputs": []
    },
    {
      "cell_type": "markdown",
      "source": [
        "## 4. Оценка размеров датасета, выбор признаков для анализа"
      ],
      "metadata": {
        "id": "3uHWsjiUlAVn"
      }
    },
    {
      "cell_type": "markdown",
      "source": [
        "Оцените размеры датасета с помощью атрибута shape"
      ],
      "metadata": {
        "id": "UKQGc9s2-fEj"
      }
    },
    {
      "cell_type": "code",
      "execution_count": 10,
      "metadata": {
        "id": "Mbniz7lAHMdW",
        "colab": {
          "base_uri": "https://localhost:8080/"
        },
        "outputId": "be50ed20-33c8-47d8-f246-a830bd0e322c"
      },
      "outputs": [
        {
          "output_type": "execute_result",
          "data": {
            "text/plain": [
              "(5000, 13)"
            ]
          },
          "metadata": {},
          "execution_count": 10
        }
      ],
      "source": [
        "dataset.shape"
      ]
    },
    {
      "cell_type": "markdown",
      "source": [
        "Выведите информацию о датасете с помощью метода info()"
      ],
      "metadata": {
        "id": "zSMMwr0D-iKE"
      }
    },
    {
      "cell_type": "code",
      "source": [
        "dataset.info()"
      ],
      "metadata": {
        "id": "Rb9-5dw7lL-_",
        "colab": {
          "base_uri": "https://localhost:8080/"
        },
        "outputId": "aabb4968-de10-4512-be7b-8f79b7794706"
      },
      "execution_count": 11,
      "outputs": [
        {
          "output_type": "stream",
          "name": "stdout",
          "text": [
            "<class 'pandas.core.frame.DataFrame'>\n",
            "RangeIndex: 5000 entries, 0 to 4999\n",
            "Data columns (total 13 columns):\n",
            " #   Column            Non-Null Count  Dtype  \n",
            "---  ------            --------------  -----  \n",
            " 0   poster            5000 non-null   object \n",
            " 1   title             5000 non-null   object \n",
            " 2   certificate       5000 non-null   object \n",
            " 3   runtime           5000 non-null   object \n",
            " 4   genre             4970 non-null   object \n",
            " 5   rating            5000 non-null   float64\n",
            " 6   about             4986 non-null   object \n",
            " 7   director          5000 non-null   object \n",
            " 8   stars             5000 non-null   object \n",
            " 9   votes             5000 non-null   object \n",
            " 10  gross_earn        4585 non-null   object \n",
            " 11  runtime_clear     5000 non-null   int64  \n",
            " 12  gross_earn_clear  4585 non-null   float64\n",
            "dtypes: float64(2), int64(1), object(10)\n",
            "memory usage: 507.9+ KB\n"
          ]
        }
      ]
    },
    {
      "cell_type": "markdown",
      "source": [
        "**Признаки, которые будут использованы для дальнейшего анализа:**"
      ],
      "metadata": {
        "id": "2uVZ_o9--met"
      }
    },
    {
      "cell_type": "markdown",
      "source": [
        "***Количественные признаки:***\n",
        "1.   Продолжительность фильма: runtime_clear\n",
        "2.   Доход с фильма: gross_earn_clear\n",
        "\n",
        "***Категориальные признаки:***\n",
        "1.   Наименование фильма: title\n",
        "2.   Класс фильма: certificate\n",
        "3.   Жанр фильма: genre\n",
        "4.   Рейтинг фильма: rating\n",
        "5.   Кинорежиссер: director\n",
        "6.   Актеры-звезды фильма: stars\n"
      ],
      "metadata": {
        "id": "__4ow2nerR2R"
      }
    },
    {
      "cell_type": "markdown",
      "source": [
        "## 5. Неграфический и графический анализ количественных признаков"
      ],
      "metadata": {
        "id": "Int1osF-mdy-"
      }
    },
    {
      "cell_type": "markdown",
      "source": [
        "Выполните неграфический и графический анализ количественных признаков"
      ],
      "metadata": {
        "id": "j5R6MgdIIpBb"
      }
    },
    {
      "cell_type": "markdown",
      "source": [
        "### *5.1. gross_earn_clear*"
      ],
      "metadata": {
        "id": "gp81b9DUrIEr"
      }
    },
    {
      "cell_type": "markdown",
      "source": [
        "Сохраните Series ['gross_earn_clear'] в переменную gross_earn"
      ],
      "metadata": {
        "id": "A-AUrPXC_h6p"
      }
    },
    {
      "cell_type": "code",
      "execution_count": 12,
      "metadata": {
        "id": "B4HhGwUOKCfU"
      },
      "outputs": [],
      "source": [
        "gross_earn = dataset['gross_earn_clear']"
      ]
    },
    {
      "cell_type": "markdown",
      "source": [
        "Рассчитайте максимальное и минимальное значения доходов с фильмов с помощью методов max() и min() соответственно. Выведите значения на печать"
      ],
      "metadata": {
        "id": "gP-qOeh8AMLZ"
      }
    },
    {
      "cell_type": "code",
      "source": [
        "max_value = gross_earn.max()\n",
        "min_value = gross_earn.min()\n",
        "print('Наибольший доход: ', max_value, 'Наименьший доход: ', min_value)"
      ],
      "metadata": {
        "id": "PhrGIpCboJqC",
        "colab": {
          "base_uri": "https://localhost:8080/"
        },
        "outputId": "d994d6b4-57da-4c63-dc6d-ca2ee9088396"
      },
      "execution_count": 13,
      "outputs": [
        {
          "output_type": "stream",
          "name": "stdout",
          "text": [
            "Наибольший доход:  93666.0 Наименьший доход:  0.0\n"
          ]
        }
      ]
    },
    {
      "cell_type": "markdown",
      "source": [
        "Рассмотрите наблюдения, у которых значение по признаку gross_earn равно 0.0"
      ],
      "metadata": {
        "id": "ttYZso-zBLZJ"
      }
    },
    {
      "cell_type": "code",
      "source": [
        "dataset[dataset['gross_earn_clear']==0.0]"
      ],
      "metadata": {
        "id": "699S3eY8xjDf",
        "colab": {
          "base_uri": "https://localhost:8080/",
          "height": 1000
        },
        "outputId": "6189170f-fd7a-4581-89fb-662066917ca1"
      },
      "execution_count": 14,
      "outputs": [
        {
          "output_type": "execute_result",
          "data": {
            "text/plain": [
              "                                                 poster  \\\n",
              "485   https://m.media-amazon.com/images/S/sash/4Fyxw...   \n",
              "558   https://m.media-amazon.com/images/S/sash/4Fyxw...   \n",
              "696   https://m.media-amazon.com/images/S/sash/4Fyxw...   \n",
              "1427  https://m.media-amazon.com/images/S/sash/4Fyxw...   \n",
              "1485  https://m.media-amazon.com/images/S/sash/4Fyxw...   \n",
              "1622  https://m.media-amazon.com/images/S/sash/4Fyxw...   \n",
              "1949  https://m.media-amazon.com/images/S/sash/4Fyxw...   \n",
              "2493  https://m.media-amazon.com/images/S/sash/4Fyxw...   \n",
              "3171  https://m.media-amazon.com/images/S/sash/4Fyxw...   \n",
              "3364  https://m.media-amazon.com/images/S/sash/4Fyxw...   \n",
              "3571  https://m.media-amazon.com/images/S/sash/4Fyxw...   \n",
              "3743  https://m.media-amazon.com/images/S/sash/4Fyxw...   \n",
              "3832  https://m.media-amazon.com/images/S/sash/4Fyxw...   \n",
              "3987  https://m.media-amazon.com/images/S/sash/4Fyxw...   \n",
              "4356  https://m.media-amazon.com/images/S/sash/4Fyxw...   \n",
              "4381  https://m.media-amazon.com/images/S/sash/4Fyxw...   \n",
              "4838  https://m.media-amazon.com/images/S/sash/4Fyxw...   \n",
              "\n",
              "                          title certificate                runtime  \\\n",
              "485   Knockin' on Heaven's Door      87 min  Action, Crime, Comedy   \n",
              "558                  Mr. Nobody          15                141 min   \n",
              "696               Adam's Apples           R                 94 min   \n",
              "1427                      Ben X          15                 93 min   \n",
              "1485                     Pusher          18                110 min   \n",
              "1622      Nothing But the Truth          15                108 min   \n",
              "1949              Perfect Sense          15                 92 min   \n",
              "2493               Ginger Snaps          18                108 min   \n",
              "3171               Son of a Gun          15                108 min   \n",
              "3364                   Flypaper          15                 87 min   \n",
              "3571                Chalet Girl         12A                 97 min   \n",
              "3743         The Oxford Murders          15                108 min   \n",
              "3832             Burke and Hare          15                 91 min   \n",
              "3987              The Condemned          18                114 min   \n",
              "4356     I Spit on Your Grave 2          18                106 min   \n",
              "4381                  Wild Card          15                 92 min   \n",
              "4838                        ATM          15                 90 min   \n",
              "\n",
              "                         genre  rating  \\\n",
              "485                        NaN     7.9   \n",
              "558    Drama, Fantasy, Romance     7.8   \n",
              "696       Comedy, Crime, Drama     7.7   \n",
              "1427           Drama, Thriller     7.3   \n",
              "1485           Crime, Thriller     7.3   \n",
              "1622              Crime, Drama     7.2   \n",
              "1949    Drama, Romance, Sci-Fi     7.0   \n",
              "2493    Drama, Fantasy, Horror     6.8   \n",
              "3171      Action, Crime, Drama     6.4   \n",
              "3364    Comedy, Crime, Mystery     6.3   \n",
              "3571    Comedy, Romance, Sport     6.2   \n",
              "3743  Adventure, Crime, Horror     6.1   \n",
              "3832    Comedy, Crime, History     6.1   \n",
              "3987   Action, Crime, Thriller     6.0   \n",
              "4356          Horror, Thriller     5.6   \n",
              "4381      Action, Crime, Drama     5.6   \n",
              "4838          Horror, Thriller     4.7   \n",
              "\n",
              "                                                  about              director  \\\n",
              "485   Two terminally ill patients escape from a hosp...           Thomas Jahn   \n",
              "558   A boy stands on a station platform as a train ...      Jaco Van Dormael   \n",
              "696   A neo-Nazi sentenced to community service at a...  Anders Thomas Jensen   \n",
              "1427  As an alternative to getting bullied at school...         Nic Balthazar   \n",
              "1485  A drug pusher grows increasingly desperate aft...  Nicolas Winding Refn   \n",
              "1622  In Washington, D.C., a reporter faces a possib...             Rod Lurie   \n",
              "1949  A chef and a scientist fall in love as an epid...       David Mackenzie   \n",
              "2493  Two death-obsessed sisters, outcasts in their ...          John Fawcett   \n",
              "3171  JR busts out of prison with Brendan Lynch, Aus...          Julius Avery   \n",
              "3364  A man caught in the middle of two simultaneous...           Rob Minkoff   \n",
              "3571  Former skateboard champion Kim wants to make m...           Phil Traill   \n",
              "3743  At Oxford University, a professor and a grad s...    Álex de la Iglesia   \n",
              "3832  A black comedy about two 19th-century grave ro...           John Landis   \n",
              "3987  Jack Conrad is awaiting the death penalty in a...           Scott Wiper   \n",
              "4356  When Katie innocently accepts an offer to have...      Steven R. Monroe   \n",
              "4381  When a Las Vegas bodyguard with lethal skills ...            Simon West   \n",
              "4838  On a late night visit to an ATM, three co-work...          David Brooks   \n",
              "\n",
              "                                                  stars     votes gross_earn  \\\n",
              "485   ('Til Schweiger',), ('Jan Josef Liefers',), ('...    30,499     $0.00M   \n",
              "558   ('Jared Leto',), ('Sarah Polley',), ('Diane Kr...  2,32,030     $0.00M   \n",
              "696   ('Ulrich Thomsen',), ('Mads Mikkelsen',), ('Ni...    50,694     $0.00M   \n",
              "1427  ('Marijke Pinoy',), ('Greg Timmermans',), ('Ce...    18,943     $0.00M   \n",
              "1485  ('Kim Bodnia',), ('Zlatko Buric',), ('Laura Dr...    39,929     $0.00M   \n",
              "1622  ('Kate Beckinsale',), ('Matt Dillon',), ('Vera...    38,253     $0.00M   \n",
              "1949  ('Ewan McGregor',), ('Eva Green',), ('Lauren T...    60,249     $0.00M   \n",
              "2493  ('Emily Perkins',), ('Katharine Isabelle',), (...    47,082     $0.00M   \n",
              "3171  ('Ewan McGregor',), ('Brenton Thwaites',), ('A...    28,121     $0.00M   \n",
              "3364  ('Patrick Dempsey',), ('Ashley Judd',), ('Tim ...    33,003     $0.00M   \n",
              "3571  ('Felicity Jones',), ('Ed Westwick',), ('Bill ...    25,470     $0.00M   \n",
              "3743  ('Elijah Wood',), ('John Hurt',), ('Leonor Wat...    29,257     $0.00M   \n",
              "3832  ('Bill Bailey',), ('Tom Wilkinson',), ('Michae...    20,331     $0.00M   \n",
              "3987  ('Steve Austin',), ('Vinnie Jones',), ('Nathan...    52,430     $0.00M   \n",
              "4356  ('Jemma Dallender',), ('Joe Absolom',), ('Yavo...    29,901     $0.00M   \n",
              "4381  ('Jason Statham',), ('Michael Angarano',), ('D...    55,803     $0.00M   \n",
              "4838  ('Alice Eve',), ('Josh Peck',), ('Brian Geragh...    23,960     $0.00M   \n",
              "\n",
              "      runtime_clear  gross_earn_clear  \n",
              "485               0               0.0  \n",
              "558             141               0.0  \n",
              "696              94               0.0  \n",
              "1427             93               0.0  \n",
              "1485            110               0.0  \n",
              "1622            108               0.0  \n",
              "1949             92               0.0  \n",
              "2493            108               0.0  \n",
              "3171            108               0.0  \n",
              "3364             87               0.0  \n",
              "3571             97               0.0  \n",
              "3743            108               0.0  \n",
              "3832             91               0.0  \n",
              "3987            114               0.0  \n",
              "4356            106               0.0  \n",
              "4381             92               0.0  \n",
              "4838             90               0.0  "
            ],
            "text/html": [
              "\n",
              "  <div id=\"df-8c778285-1a4e-4a9f-9bdc-8a2d7ff720ab\" class=\"colab-df-container\">\n",
              "    <div>\n",
              "<style scoped>\n",
              "    .dataframe tbody tr th:only-of-type {\n",
              "        vertical-align: middle;\n",
              "    }\n",
              "\n",
              "    .dataframe tbody tr th {\n",
              "        vertical-align: top;\n",
              "    }\n",
              "\n",
              "    .dataframe thead th {\n",
              "        text-align: right;\n",
              "    }\n",
              "</style>\n",
              "<table border=\"1\" class=\"dataframe\">\n",
              "  <thead>\n",
              "    <tr style=\"text-align: right;\">\n",
              "      <th></th>\n",
              "      <th>poster</th>\n",
              "      <th>title</th>\n",
              "      <th>certificate</th>\n",
              "      <th>runtime</th>\n",
              "      <th>genre</th>\n",
              "      <th>rating</th>\n",
              "      <th>about</th>\n",
              "      <th>director</th>\n",
              "      <th>stars</th>\n",
              "      <th>votes</th>\n",
              "      <th>gross_earn</th>\n",
              "      <th>runtime_clear</th>\n",
              "      <th>gross_earn_clear</th>\n",
              "    </tr>\n",
              "  </thead>\n",
              "  <tbody>\n",
              "    <tr>\n",
              "      <th>485</th>\n",
              "      <td>https://m.media-amazon.com/images/S/sash/4Fyxw...</td>\n",
              "      <td>Knockin' on Heaven's Door</td>\n",
              "      <td>87 min</td>\n",
              "      <td>Action, Crime, Comedy</td>\n",
              "      <td>NaN</td>\n",
              "      <td>7.9</td>\n",
              "      <td>Two terminally ill patients escape from a hosp...</td>\n",
              "      <td>Thomas Jahn</td>\n",
              "      <td>('Til Schweiger',), ('Jan Josef Liefers',), ('...</td>\n",
              "      <td>30,499</td>\n",
              "      <td>$0.00M</td>\n",
              "      <td>0</td>\n",
              "      <td>0.0</td>\n",
              "    </tr>\n",
              "    <tr>\n",
              "      <th>558</th>\n",
              "      <td>https://m.media-amazon.com/images/S/sash/4Fyxw...</td>\n",
              "      <td>Mr. Nobody</td>\n",
              "      <td>15</td>\n",
              "      <td>141 min</td>\n",
              "      <td>Drama, Fantasy, Romance</td>\n",
              "      <td>7.8</td>\n",
              "      <td>A boy stands on a station platform as a train ...</td>\n",
              "      <td>Jaco Van Dormael</td>\n",
              "      <td>('Jared Leto',), ('Sarah Polley',), ('Diane Kr...</td>\n",
              "      <td>2,32,030</td>\n",
              "      <td>$0.00M</td>\n",
              "      <td>141</td>\n",
              "      <td>0.0</td>\n",
              "    </tr>\n",
              "    <tr>\n",
              "      <th>696</th>\n",
              "      <td>https://m.media-amazon.com/images/S/sash/4Fyxw...</td>\n",
              "      <td>Adam's Apples</td>\n",
              "      <td>R</td>\n",
              "      <td>94 min</td>\n",
              "      <td>Comedy, Crime, Drama</td>\n",
              "      <td>7.7</td>\n",
              "      <td>A neo-Nazi sentenced to community service at a...</td>\n",
              "      <td>Anders Thomas Jensen</td>\n",
              "      <td>('Ulrich Thomsen',), ('Mads Mikkelsen',), ('Ni...</td>\n",
              "      <td>50,694</td>\n",
              "      <td>$0.00M</td>\n",
              "      <td>94</td>\n",
              "      <td>0.0</td>\n",
              "    </tr>\n",
              "    <tr>\n",
              "      <th>1427</th>\n",
              "      <td>https://m.media-amazon.com/images/S/sash/4Fyxw...</td>\n",
              "      <td>Ben X</td>\n",
              "      <td>15</td>\n",
              "      <td>93 min</td>\n",
              "      <td>Drama, Thriller</td>\n",
              "      <td>7.3</td>\n",
              "      <td>As an alternative to getting bullied at school...</td>\n",
              "      <td>Nic Balthazar</td>\n",
              "      <td>('Marijke Pinoy',), ('Greg Timmermans',), ('Ce...</td>\n",
              "      <td>18,943</td>\n",
              "      <td>$0.00M</td>\n",
              "      <td>93</td>\n",
              "      <td>0.0</td>\n",
              "    </tr>\n",
              "    <tr>\n",
              "      <th>1485</th>\n",
              "      <td>https://m.media-amazon.com/images/S/sash/4Fyxw...</td>\n",
              "      <td>Pusher</td>\n",
              "      <td>18</td>\n",
              "      <td>110 min</td>\n",
              "      <td>Crime, Thriller</td>\n",
              "      <td>7.3</td>\n",
              "      <td>A drug pusher grows increasingly desperate aft...</td>\n",
              "      <td>Nicolas Winding Refn</td>\n",
              "      <td>('Kim Bodnia',), ('Zlatko Buric',), ('Laura Dr...</td>\n",
              "      <td>39,929</td>\n",
              "      <td>$0.00M</td>\n",
              "      <td>110</td>\n",
              "      <td>0.0</td>\n",
              "    </tr>\n",
              "    <tr>\n",
              "      <th>1622</th>\n",
              "      <td>https://m.media-amazon.com/images/S/sash/4Fyxw...</td>\n",
              "      <td>Nothing But the Truth</td>\n",
              "      <td>15</td>\n",
              "      <td>108 min</td>\n",
              "      <td>Crime, Drama</td>\n",
              "      <td>7.2</td>\n",
              "      <td>In Washington, D.C., a reporter faces a possib...</td>\n",
              "      <td>Rod Lurie</td>\n",
              "      <td>('Kate Beckinsale',), ('Matt Dillon',), ('Vera...</td>\n",
              "      <td>38,253</td>\n",
              "      <td>$0.00M</td>\n",
              "      <td>108</td>\n",
              "      <td>0.0</td>\n",
              "    </tr>\n",
              "    <tr>\n",
              "      <th>1949</th>\n",
              "      <td>https://m.media-amazon.com/images/S/sash/4Fyxw...</td>\n",
              "      <td>Perfect Sense</td>\n",
              "      <td>15</td>\n",
              "      <td>92 min</td>\n",
              "      <td>Drama, Romance, Sci-Fi</td>\n",
              "      <td>7.0</td>\n",
              "      <td>A chef and a scientist fall in love as an epid...</td>\n",
              "      <td>David Mackenzie</td>\n",
              "      <td>('Ewan McGregor',), ('Eva Green',), ('Lauren T...</td>\n",
              "      <td>60,249</td>\n",
              "      <td>$0.00M</td>\n",
              "      <td>92</td>\n",
              "      <td>0.0</td>\n",
              "    </tr>\n",
              "    <tr>\n",
              "      <th>2493</th>\n",
              "      <td>https://m.media-amazon.com/images/S/sash/4Fyxw...</td>\n",
              "      <td>Ginger Snaps</td>\n",
              "      <td>18</td>\n",
              "      <td>108 min</td>\n",
              "      <td>Drama, Fantasy, Horror</td>\n",
              "      <td>6.8</td>\n",
              "      <td>Two death-obsessed sisters, outcasts in their ...</td>\n",
              "      <td>John Fawcett</td>\n",
              "      <td>('Emily Perkins',), ('Katharine Isabelle',), (...</td>\n",
              "      <td>47,082</td>\n",
              "      <td>$0.00M</td>\n",
              "      <td>108</td>\n",
              "      <td>0.0</td>\n",
              "    </tr>\n",
              "    <tr>\n",
              "      <th>3171</th>\n",
              "      <td>https://m.media-amazon.com/images/S/sash/4Fyxw...</td>\n",
              "      <td>Son of a Gun</td>\n",
              "      <td>15</td>\n",
              "      <td>108 min</td>\n",
              "      <td>Action, Crime, Drama</td>\n",
              "      <td>6.4</td>\n",
              "      <td>JR busts out of prison with Brendan Lynch, Aus...</td>\n",
              "      <td>Julius Avery</td>\n",
              "      <td>('Ewan McGregor',), ('Brenton Thwaites',), ('A...</td>\n",
              "      <td>28,121</td>\n",
              "      <td>$0.00M</td>\n",
              "      <td>108</td>\n",
              "      <td>0.0</td>\n",
              "    </tr>\n",
              "    <tr>\n",
              "      <th>3364</th>\n",
              "      <td>https://m.media-amazon.com/images/S/sash/4Fyxw...</td>\n",
              "      <td>Flypaper</td>\n",
              "      <td>15</td>\n",
              "      <td>87 min</td>\n",
              "      <td>Comedy, Crime, Mystery</td>\n",
              "      <td>6.3</td>\n",
              "      <td>A man caught in the middle of two simultaneous...</td>\n",
              "      <td>Rob Minkoff</td>\n",
              "      <td>('Patrick Dempsey',), ('Ashley Judd',), ('Tim ...</td>\n",
              "      <td>33,003</td>\n",
              "      <td>$0.00M</td>\n",
              "      <td>87</td>\n",
              "      <td>0.0</td>\n",
              "    </tr>\n",
              "    <tr>\n",
              "      <th>3571</th>\n",
              "      <td>https://m.media-amazon.com/images/S/sash/4Fyxw...</td>\n",
              "      <td>Chalet Girl</td>\n",
              "      <td>12A</td>\n",
              "      <td>97 min</td>\n",
              "      <td>Comedy, Romance, Sport</td>\n",
              "      <td>6.2</td>\n",
              "      <td>Former skateboard champion Kim wants to make m...</td>\n",
              "      <td>Phil Traill</td>\n",
              "      <td>('Felicity Jones',), ('Ed Westwick',), ('Bill ...</td>\n",
              "      <td>25,470</td>\n",
              "      <td>$0.00M</td>\n",
              "      <td>97</td>\n",
              "      <td>0.0</td>\n",
              "    </tr>\n",
              "    <tr>\n",
              "      <th>3743</th>\n",
              "      <td>https://m.media-amazon.com/images/S/sash/4Fyxw...</td>\n",
              "      <td>The Oxford Murders</td>\n",
              "      <td>15</td>\n",
              "      <td>108 min</td>\n",
              "      <td>Adventure, Crime, Horror</td>\n",
              "      <td>6.1</td>\n",
              "      <td>At Oxford University, a professor and a grad s...</td>\n",
              "      <td>Álex de la Iglesia</td>\n",
              "      <td>('Elijah Wood',), ('John Hurt',), ('Leonor Wat...</td>\n",
              "      <td>29,257</td>\n",
              "      <td>$0.00M</td>\n",
              "      <td>108</td>\n",
              "      <td>0.0</td>\n",
              "    </tr>\n",
              "    <tr>\n",
              "      <th>3832</th>\n",
              "      <td>https://m.media-amazon.com/images/S/sash/4Fyxw...</td>\n",
              "      <td>Burke and Hare</td>\n",
              "      <td>15</td>\n",
              "      <td>91 min</td>\n",
              "      <td>Comedy, Crime, History</td>\n",
              "      <td>6.1</td>\n",
              "      <td>A black comedy about two 19th-century grave ro...</td>\n",
              "      <td>John Landis</td>\n",
              "      <td>('Bill Bailey',), ('Tom Wilkinson',), ('Michae...</td>\n",
              "      <td>20,331</td>\n",
              "      <td>$0.00M</td>\n",
              "      <td>91</td>\n",
              "      <td>0.0</td>\n",
              "    </tr>\n",
              "    <tr>\n",
              "      <th>3987</th>\n",
              "      <td>https://m.media-amazon.com/images/S/sash/4Fyxw...</td>\n",
              "      <td>The Condemned</td>\n",
              "      <td>18</td>\n",
              "      <td>114 min</td>\n",
              "      <td>Action, Crime, Thriller</td>\n",
              "      <td>6.0</td>\n",
              "      <td>Jack Conrad is awaiting the death penalty in a...</td>\n",
              "      <td>Scott Wiper</td>\n",
              "      <td>('Steve Austin',), ('Vinnie Jones',), ('Nathan...</td>\n",
              "      <td>52,430</td>\n",
              "      <td>$0.00M</td>\n",
              "      <td>114</td>\n",
              "      <td>0.0</td>\n",
              "    </tr>\n",
              "    <tr>\n",
              "      <th>4356</th>\n",
              "      <td>https://m.media-amazon.com/images/S/sash/4Fyxw...</td>\n",
              "      <td>I Spit on Your Grave 2</td>\n",
              "      <td>18</td>\n",
              "      <td>106 min</td>\n",
              "      <td>Horror, Thriller</td>\n",
              "      <td>5.6</td>\n",
              "      <td>When Katie innocently accepts an offer to have...</td>\n",
              "      <td>Steven R. Monroe</td>\n",
              "      <td>('Jemma Dallender',), ('Joe Absolom',), ('Yavo...</td>\n",
              "      <td>29,901</td>\n",
              "      <td>$0.00M</td>\n",
              "      <td>106</td>\n",
              "      <td>0.0</td>\n",
              "    </tr>\n",
              "    <tr>\n",
              "      <th>4381</th>\n",
              "      <td>https://m.media-amazon.com/images/S/sash/4Fyxw...</td>\n",
              "      <td>Wild Card</td>\n",
              "      <td>15</td>\n",
              "      <td>92 min</td>\n",
              "      <td>Action, Crime, Drama</td>\n",
              "      <td>5.6</td>\n",
              "      <td>When a Las Vegas bodyguard with lethal skills ...</td>\n",
              "      <td>Simon West</td>\n",
              "      <td>('Jason Statham',), ('Michael Angarano',), ('D...</td>\n",
              "      <td>55,803</td>\n",
              "      <td>$0.00M</td>\n",
              "      <td>92</td>\n",
              "      <td>0.0</td>\n",
              "    </tr>\n",
              "    <tr>\n",
              "      <th>4838</th>\n",
              "      <td>https://m.media-amazon.com/images/S/sash/4Fyxw...</td>\n",
              "      <td>ATM</td>\n",
              "      <td>15</td>\n",
              "      <td>90 min</td>\n",
              "      <td>Horror, Thriller</td>\n",
              "      <td>4.7</td>\n",
              "      <td>On a late night visit to an ATM, three co-work...</td>\n",
              "      <td>David Brooks</td>\n",
              "      <td>('Alice Eve',), ('Josh Peck',), ('Brian Geragh...</td>\n",
              "      <td>23,960</td>\n",
              "      <td>$0.00M</td>\n",
              "      <td>90</td>\n",
              "      <td>0.0</td>\n",
              "    </tr>\n",
              "  </tbody>\n",
              "</table>\n",
              "</div>\n",
              "    <div class=\"colab-df-buttons\">\n",
              "\n",
              "  <div class=\"colab-df-container\">\n",
              "    <button class=\"colab-df-convert\" onclick=\"convertToInteractive('df-8c778285-1a4e-4a9f-9bdc-8a2d7ff720ab')\"\n",
              "            title=\"Convert this dataframe to an interactive table.\"\n",
              "            style=\"display:none;\">\n",
              "\n",
              "  <svg xmlns=\"http://www.w3.org/2000/svg\" height=\"24px\" viewBox=\"0 -960 960 960\">\n",
              "    <path d=\"M120-120v-720h720v720H120Zm60-500h600v-160H180v160Zm220 220h160v-160H400v160Zm0 220h160v-160H400v160ZM180-400h160v-160H180v160Zm440 0h160v-160H620v160ZM180-180h160v-160H180v160Zm440 0h160v-160H620v160Z\"/>\n",
              "  </svg>\n",
              "    </button>\n",
              "\n",
              "  <style>\n",
              "    .colab-df-container {\n",
              "      display:flex;\n",
              "      gap: 12px;\n",
              "    }\n",
              "\n",
              "    .colab-df-convert {\n",
              "      background-color: #E8F0FE;\n",
              "      border: none;\n",
              "      border-radius: 50%;\n",
              "      cursor: pointer;\n",
              "      display: none;\n",
              "      fill: #1967D2;\n",
              "      height: 32px;\n",
              "      padding: 0 0 0 0;\n",
              "      width: 32px;\n",
              "    }\n",
              "\n",
              "    .colab-df-convert:hover {\n",
              "      background-color: #E2EBFA;\n",
              "      box-shadow: 0px 1px 2px rgba(60, 64, 67, 0.3), 0px 1px 3px 1px rgba(60, 64, 67, 0.15);\n",
              "      fill: #174EA6;\n",
              "    }\n",
              "\n",
              "    .colab-df-buttons div {\n",
              "      margin-bottom: 4px;\n",
              "    }\n",
              "\n",
              "    [theme=dark] .colab-df-convert {\n",
              "      background-color: #3B4455;\n",
              "      fill: #D2E3FC;\n",
              "    }\n",
              "\n",
              "    [theme=dark] .colab-df-convert:hover {\n",
              "      background-color: #434B5C;\n",
              "      box-shadow: 0px 1px 3px 1px rgba(0, 0, 0, 0.15);\n",
              "      filter: drop-shadow(0px 1px 2px rgba(0, 0, 0, 0.3));\n",
              "      fill: #FFFFFF;\n",
              "    }\n",
              "  </style>\n",
              "\n",
              "    <script>\n",
              "      const buttonEl =\n",
              "        document.querySelector('#df-8c778285-1a4e-4a9f-9bdc-8a2d7ff720ab button.colab-df-convert');\n",
              "      buttonEl.style.display =\n",
              "        google.colab.kernel.accessAllowed ? 'block' : 'none';\n",
              "\n",
              "      async function convertToInteractive(key) {\n",
              "        const element = document.querySelector('#df-8c778285-1a4e-4a9f-9bdc-8a2d7ff720ab');\n",
              "        const dataTable =\n",
              "          await google.colab.kernel.invokeFunction('convertToInteractive',\n",
              "                                                    [key], {});\n",
              "        if (!dataTable) return;\n",
              "\n",
              "        const docLinkHtml = 'Like what you see? Visit the ' +\n",
              "          '<a target=\"_blank\" href=https://colab.research.google.com/notebooks/data_table.ipynb>data table notebook</a>'\n",
              "          + ' to learn more about interactive tables.';\n",
              "        element.innerHTML = '';\n",
              "        dataTable['output_type'] = 'display_data';\n",
              "        await google.colab.output.renderOutput(dataTable, element);\n",
              "        const docLink = document.createElement('div');\n",
              "        docLink.innerHTML = docLinkHtml;\n",
              "        element.appendChild(docLink);\n",
              "      }\n",
              "    </script>\n",
              "  </div>\n",
              "\n",
              "\n",
              "<div id=\"df-c02cb2b5-19cb-44a3-8287-7c2d16e8d9a0\">\n",
              "  <button class=\"colab-df-quickchart\" onclick=\"quickchart('df-c02cb2b5-19cb-44a3-8287-7c2d16e8d9a0')\"\n",
              "            title=\"Suggest charts.\"\n",
              "            style=\"display:none;\">\n",
              "\n",
              "<svg xmlns=\"http://www.w3.org/2000/svg\" height=\"24px\"viewBox=\"0 0 24 24\"\n",
              "     width=\"24px\">\n",
              "    <g>\n",
              "        <path d=\"M19 3H5c-1.1 0-2 .9-2 2v14c0 1.1.9 2 2 2h14c1.1 0 2-.9 2-2V5c0-1.1-.9-2-2-2zM9 17H7v-7h2v7zm4 0h-2V7h2v10zm4 0h-2v-4h2v4z\"/>\n",
              "    </g>\n",
              "</svg>\n",
              "  </button>\n",
              "\n",
              "<style>\n",
              "  .colab-df-quickchart {\n",
              "      --bg-color: #E8F0FE;\n",
              "      --fill-color: #1967D2;\n",
              "      --hover-bg-color: #E2EBFA;\n",
              "      --hover-fill-color: #174EA6;\n",
              "      --disabled-fill-color: #AAA;\n",
              "      --disabled-bg-color: #DDD;\n",
              "  }\n",
              "\n",
              "  [theme=dark] .colab-df-quickchart {\n",
              "      --bg-color: #3B4455;\n",
              "      --fill-color: #D2E3FC;\n",
              "      --hover-bg-color: #434B5C;\n",
              "      --hover-fill-color: #FFFFFF;\n",
              "      --disabled-bg-color: #3B4455;\n",
              "      --disabled-fill-color: #666;\n",
              "  }\n",
              "\n",
              "  .colab-df-quickchart {\n",
              "    background-color: var(--bg-color);\n",
              "    border: none;\n",
              "    border-radius: 50%;\n",
              "    cursor: pointer;\n",
              "    display: none;\n",
              "    fill: var(--fill-color);\n",
              "    height: 32px;\n",
              "    padding: 0;\n",
              "    width: 32px;\n",
              "  }\n",
              "\n",
              "  .colab-df-quickchart:hover {\n",
              "    background-color: var(--hover-bg-color);\n",
              "    box-shadow: 0 1px 2px rgba(60, 64, 67, 0.3), 0 1px 3px 1px rgba(60, 64, 67, 0.15);\n",
              "    fill: var(--button-hover-fill-color);\n",
              "  }\n",
              "\n",
              "  .colab-df-quickchart-complete:disabled,\n",
              "  .colab-df-quickchart-complete:disabled:hover {\n",
              "    background-color: var(--disabled-bg-color);\n",
              "    fill: var(--disabled-fill-color);\n",
              "    box-shadow: none;\n",
              "  }\n",
              "\n",
              "  .colab-df-spinner {\n",
              "    border: 2px solid var(--fill-color);\n",
              "    border-color: transparent;\n",
              "    border-bottom-color: var(--fill-color);\n",
              "    animation:\n",
              "      spin 1s steps(1) infinite;\n",
              "  }\n",
              "\n",
              "  @keyframes spin {\n",
              "    0% {\n",
              "      border-color: transparent;\n",
              "      border-bottom-color: var(--fill-color);\n",
              "      border-left-color: var(--fill-color);\n",
              "    }\n",
              "    20% {\n",
              "      border-color: transparent;\n",
              "      border-left-color: var(--fill-color);\n",
              "      border-top-color: var(--fill-color);\n",
              "    }\n",
              "    30% {\n",
              "      border-color: transparent;\n",
              "      border-left-color: var(--fill-color);\n",
              "      border-top-color: var(--fill-color);\n",
              "      border-right-color: var(--fill-color);\n",
              "    }\n",
              "    40% {\n",
              "      border-color: transparent;\n",
              "      border-right-color: var(--fill-color);\n",
              "      border-top-color: var(--fill-color);\n",
              "    }\n",
              "    60% {\n",
              "      border-color: transparent;\n",
              "      border-right-color: var(--fill-color);\n",
              "    }\n",
              "    80% {\n",
              "      border-color: transparent;\n",
              "      border-right-color: var(--fill-color);\n",
              "      border-bottom-color: var(--fill-color);\n",
              "    }\n",
              "    90% {\n",
              "      border-color: transparent;\n",
              "      border-bottom-color: var(--fill-color);\n",
              "    }\n",
              "  }\n",
              "</style>\n",
              "\n",
              "  <script>\n",
              "    async function quickchart(key) {\n",
              "      const quickchartButtonEl =\n",
              "        document.querySelector('#' + key + ' button');\n",
              "      quickchartButtonEl.disabled = true;  // To prevent multiple clicks.\n",
              "      quickchartButtonEl.classList.add('colab-df-spinner');\n",
              "      try {\n",
              "        const charts = await google.colab.kernel.invokeFunction(\n",
              "            'suggestCharts', [key], {});\n",
              "      } catch (error) {\n",
              "        console.error('Error during call to suggestCharts:', error);\n",
              "      }\n",
              "      quickchartButtonEl.classList.remove('colab-df-spinner');\n",
              "      quickchartButtonEl.classList.add('colab-df-quickchart-complete');\n",
              "    }\n",
              "    (() => {\n",
              "      let quickchartButtonEl =\n",
              "        document.querySelector('#df-c02cb2b5-19cb-44a3-8287-7c2d16e8d9a0 button');\n",
              "      quickchartButtonEl.style.display =\n",
              "        google.colab.kernel.accessAllowed ? 'block' : 'none';\n",
              "    })();\n",
              "  </script>\n",
              "</div>\n",
              "    </div>\n",
              "  </div>\n"
            ]
          },
          "metadata": {},
          "execution_count": 14
        }
      ]
    },
    {
      "cell_type": "markdown",
      "source": [
        "Таких значений не так много. Можно их исключить из анализа. Перезапишите переменную gross_earn, исключив нулевые значения"
      ],
      "metadata": {
        "id": "hX1VqqvnCJ-p"
      }
    },
    {
      "cell_type": "code",
      "source": [
        "gross_earn = dataset[dataset['gross_earn_clear']!=0.0]['gross_earn_clear']"
      ],
      "metadata": {
        "id": "nRZYZy3yxzKd"
      },
      "execution_count": 15,
      "outputs": []
    },
    {
      "cell_type": "markdown",
      "source": [
        "Снова рассчитайте максимальное и минимальное значения доходов с фильмов. Выведите значения на печать"
      ],
      "metadata": {
        "id": "-lYIPwUQCW9Z"
      }
    },
    {
      "cell_type": "code",
      "source": [
        "max_value = gross_earn.max()\n",
        "min_value = gross_earn.min()\n",
        "print('Наибольший доход: ', max_value, 'Наименьший доход: ', min_value)"
      ],
      "metadata": {
        "id": "fS18XeD5yCtO",
        "colab": {
          "base_uri": "https://localhost:8080/"
        },
        "outputId": "2bb5dc19-f109-440e-d95e-b586b0164576"
      },
      "execution_count": 16,
      "outputs": [
        {
          "output_type": "stream",
          "name": "stdout",
          "text": [
            "Наибольший доход:  93666.0 Наименьший доход:  1.0\n"
          ]
        }
      ]
    },
    {
      "cell_type": "markdown",
      "source": [
        "Рассчитайте среднее значение признака с помощью метода mean(). Выведите значение на печать"
      ],
      "metadata": {
        "id": "mLZQjrseCkhy"
      }
    },
    {
      "cell_type": "code",
      "source": [
        "mean_value = gross_earn.mean()\n",
        "print('Средний доход с фильма: ', mean_value)"
      ],
      "metadata": {
        "id": "v1_BDPsjxiS8",
        "colab": {
          "base_uri": "https://localhost:8080/"
        },
        "outputId": "c970f910-e12f-4ed8-cbee-a27c948d7f37"
      },
      "execution_count": 17,
      "outputs": [
        {
          "output_type": "stream",
          "name": "stdout",
          "text": [
            "Средний доход с фильма:  4901.406742556917\n"
          ]
        }
      ]
    },
    {
      "cell_type": "markdown",
      "source": [
        "Рассчитайте медианное значение признака с помощью метода median(). Выведите значение на печать"
      ],
      "metadata": {
        "id": "wup-6vVTC25L"
      }
    },
    {
      "cell_type": "code",
      "source": [
        "median_value =gross_earn.median()\n",
        "print('Медиана доходов фильмов: ', median_value)"
      ],
      "metadata": {
        "id": "oBSj2wGxyX0L",
        "colab": {
          "base_uri": "https://localhost:8080/"
        },
        "outputId": "91591b24-837a-4eb3-a88c-c939b4000cc5"
      },
      "execution_count": 18,
      "outputs": [
        {
          "output_type": "stream",
          "name": "stdout",
          "text": [
            "Медиана доходов фильмов:  2823.5\n"
          ]
        }
      ]
    },
    {
      "cell_type": "code",
      "source": [
        "percentile_10_value = gross_earn.quantile(0.2)\n",
        "percentile_10_value"
      ],
      "metadata": {
        "colab": {
          "base_uri": "https://localhost:8080/"
        },
        "id": "twerRuT20Xxn",
        "outputId": "9c17a76e-b6f7-4dff-f161-e4ec318e0fdf"
      },
      "execution_count": 19,
      "outputs": [
        {
          "output_type": "execute_result",
          "data": {
            "text/plain": [
              "422.4000000000001"
            ]
          },
          "metadata": {},
          "execution_count": 19
        }
      ]
    },
    {
      "cell_type": "markdown",
      "source": [
        "Рассчитайте процентили (10, 25, 50, 75, 90) с помощью метода quantile(). Выведите значения на печать"
      ],
      "metadata": {
        "id": "t_2Bp1tHDdSt"
      }
    },
    {
      "cell_type": "code",
      "source": [
        "percentile_10_value = gross_earn.quantile(0.1)\n",
        "percentile_25_value = gross_earn.quantile(0.25)\n",
        "percentile_50_value = gross_earn.quantile(0.50)\n",
        "percentile_75_value = gross_earn.quantile(0.75)\n",
        "percentile_90_value = gross_earn.quantile(0.9)\n",
        "print('10-й процентиль доходов фильмов: ', percentile_10_value)\n",
        "print('25-й процентиль доходов фильмов: ', percentile_25_value)\n",
        "print('50-й процентиль доходов фильмов: ', percentile_50_value)\n",
        "print('75-й процентиль доходов фильмов: ', percentile_75_value)\n",
        "print('90-й процентиль доходов фильмов: ', percentile_90_value)"
      ],
      "metadata": {
        "id": "LNnm7ro_ysyw",
        "colab": {
          "base_uri": "https://localhost:8080/"
        },
        "outputId": "fd71757f-514a-44e5-b7a5-fa525852d1a7"
      },
      "execution_count": 20,
      "outputs": [
        {
          "output_type": "stream",
          "name": "stdout",
          "text": [
            "10-й процентиль доходов фильмов:  78.0\n",
            "25-й процентиль доходов фильмов:  698.75\n",
            "50-й процентиль доходов фильмов:  2823.5\n",
            "75-й процентиль доходов фильмов:  6266.5\n",
            "90-й процентиль доходов фильмов:  12177.500000000004\n"
          ]
        }
      ]
    },
    {
      "cell_type": "markdown",
      "source": [
        "Выведите показатели описательной статистики с помощью метода describe()"
      ],
      "metadata": {
        "id": "rVjnu8uZDwtk"
      }
    },
    {
      "cell_type": "code",
      "source": [
        "gross_earn.describe()"
      ],
      "metadata": {
        "id": "fXB8sBrgy_Wz",
        "colab": {
          "base_uri": "https://localhost:8080/"
        },
        "outputId": "c59e202d-f04a-4f43-d4f8-6f5cac53cfec"
      },
      "execution_count": 21,
      "outputs": [
        {
          "output_type": "execute_result",
          "data": {
            "text/plain": [
              "count     4568.000000\n",
              "mean      4901.406743\n",
              "std       6711.783222\n",
              "min          1.000000\n",
              "25%        698.750000\n",
              "50%       2823.500000\n",
              "75%       6266.500000\n",
              "max      93666.000000\n",
              "Name: gross_earn_clear, dtype: float64"
            ]
          },
          "metadata": {},
          "execution_count": 21
        }
      ]
    },
    {
      "cell_type": "markdown",
      "source": [
        "Импортируйте библиотеку matplotlib с расширением pyplot, присвоив короткое название plt"
      ],
      "metadata": {
        "id": "TGpjqtQzD3ny"
      }
    },
    {
      "cell_type": "code",
      "source": [
        "import matplotlib.pyplot as plt"
      ],
      "metadata": {
        "id": "Tc4nmgTIzjMP"
      },
      "execution_count": 22,
      "outputs": []
    },
    {
      "cell_type": "markdown",
      "source": [
        "Постройте диаграмму \"ящик с усами\" с помощью метода boxplot()"
      ],
      "metadata": {
        "id": "Jjtqcv4vEQR2"
      }
    },
    {
      "cell_type": "code",
      "source": [
        "plt.boxplot(gross_earn)\n",
        "plt.show()"
      ],
      "metadata": {
        "id": "RXsW4eVYzkpd",
        "colab": {
          "base_uri": "https://localhost:8080/",
          "height": 430
        },
        "outputId": "71158136-0378-4631-80be-5400b157a205"
      },
      "execution_count": 23,
      "outputs": [
        {
          "output_type": "display_data",
          "data": {
            "text/plain": [
              "<Figure size 640x480 with 1 Axes>"
            ],
            "image/png": "[encoded data removed]"
          },
          "metadata": {}
        }
      ]
    },
    {
      "cell_type": "markdown",
      "source": [
        "Диаграмма пустая. Это связано с наличием пропущенных значений по признаку.\n",
        "<br>Попробуйте построить гистограмму с помощью метода hist(), чтобы посмотреть на распределение признака."
      ],
      "metadata": {
        "id": "6zPujIlgEXKq"
      }
    },
    {
      "cell_type": "code",
      "source": [
        "plt.hist(gross_earn)\n",
        "plt.show()"
      ],
      "metadata": {
        "id": "lJ6L8Uzyz9bu",
        "colab": {
          "base_uri": "https://localhost:8080/",
          "height": 430
        },
        "outputId": "d4f171cc-e63a-42e4-c181-29cf2b2d9936"
      },
      "execution_count": 24,
      "outputs": [
        {
          "output_type": "display_data",
          "data": {
            "text/plain": [
              "<Figure size 640x480 with 1 Axes>"
            ],
            "image/png": "[encoded data removed]"
          },
          "metadata": {}
        }
      ]
    },
    {
      "cell_type": "markdown",
      "source": [
        "Гистограмма показывает, на достаточно большой размах в данных, что подтверждается и показателями описательной статистики (min и max). Ограничьте графический анализ 10 процентилем снизу и 90 процентилем сверху, тем самым обработав часть выбросов, и заново постройте \"ящик с усами\""
      ],
      "metadata": {
        "id": "nXkkSyFJE8Yz"
      }
    },
    {
      "cell_type": "code",
      "source": [
        "gross_earn_2 = dataset[\n",
        "    (dataset['gross_earn_clear']>=percentile_10_value)&\n",
        "    (dataset['gross_earn_clear']<=percentile_90_value)]['gross_earn_clear']"
      ],
      "metadata": {
        "id": "dh7enkUZ0IpG"
      },
      "execution_count": 25,
      "outputs": []
    },
    {
      "cell_type": "code",
      "source": [
        "plt.boxplot(gross_earn_2)\n",
        "plt.show()"
      ],
      "metadata": {
        "id": "-oFqo8Ni0uYE",
        "colab": {
          "base_uri": "https://localhost:8080/",
          "height": 430
        },
        "outputId": "349c7339-7350-4f76-ffd5-dbc32b9823fb"
      },
      "execution_count": 26,
      "outputs": [
        {
          "output_type": "display_data",
          "data": {
            "text/plain": [
              "<Figure size 640x480 with 1 Axes>"
            ],
            "image/png": "[encoded data removed]"
          },
          "metadata": {}
        }
      ]
    },
    {
      "cell_type": "markdown",
      "source": [
        "Также, заново постройте гистограмму, при этом передав в нее параметр bins=20 для лучшей визуализации"
      ],
      "metadata": {
        "id": "W4BiWtUjFrfY"
      }
    },
    {
      "cell_type": "code",
      "source": [
        "plt.hist(gross_earn_2, bins=20)\n",
        "plt.show()"
      ],
      "metadata": {
        "id": "6AXohvCX1U1L",
        "colab": {
          "base_uri": "https://localhost:8080/",
          "height": 430
        },
        "outputId": "7b4e3aac-eb21-4d55-f1fc-9eee1c0422d0"
      },
      "execution_count": 27,
      "outputs": [
        {
          "output_type": "display_data",
          "data": {
            "text/plain": [
              "<Figure size 640x480 with 1 Axes>"
            ],
            "image/png": "[encoded data removed]"
          },
          "metadata": {}
        }
      ]
    },
    {
      "cell_type": "markdown",
      "source": [
        "**Выводы:**"
      ],
      "metadata": {
        "id": "FyBbr2UJF6tx"
      }
    },
    {
      "cell_type": "markdown",
      "source": [
        "Напишите выводы по разделу:\n",
        "1.   О максимальных и минимальных значениях признака (оцените размах значений).\n",
        "2.   О нулевых значениях (их наличие, нужна ли предобработка).\n",
        "3.   О средних величинах (среднее, медиана, их отличия, возможные причины).\n",
        "4.   О процентилях (сколько процентов данных не превышают то или иное значение).\n",
        "5.   О результатах графического анализа (необходимость исключения выбросов, что показывает \"ящик с усами\", что показывает гистограмма)."
      ],
      "metadata": {
        "id": "tuzkA-OkGOFZ"
      }
    },
    {
      "cell_type": "markdown",
      "source": [
        "### **5.2. runtime_clear*"
      ],
      "metadata": {
        "id": "a0otq-lsrRQn"
      }
    },
    {
      "cell_type": "markdown",
      "source": [
        "По аналогии проанализируйте продолжительность фильмов"
      ],
      "metadata": {
        "id": "9j_RJKTa3JRk"
      }
    },
    {
      "cell_type": "code",
      "source": [
        "runtime = dataset['runtime_clear']\n",
        "max_runtime = runtime.max()\n",
        "min_runtime = runtime.min()\n",
        "print(\"Наибольшее время -\", max_runtime, \" Наименьшее время -\", min_runtime)"
      ],
      "metadata": {
        "id": "-6ffVMnt3Tul",
        "colab": {
          "base_uri": "https://localhost:8080/"
        },
        "outputId": "0c65cc65-ba21-4c31-8ed9-9092c2e3f14a"
      },
      "execution_count": null,
      "outputs": [
        {
          "output_type": "stream",
          "name": "stdout",
          "text": [
            "Наибольшее время - 366  Наименьшее время - 0\n"
          ]
        }
      ]
    },
    {
      "cell_type": "code",
      "source": [
        "mean_time = runtime.mean()\n",
        "print('Средняя продолжительность: ', mean_time)"
      ],
      "metadata": {
        "colab": {
          "base_uri": "https://localhost:8080/"
        },
        "id": "M9k0QkjVipFX",
        "outputId": "0bf61ee5-8ec3-4305-b8fc-76dd35b64ab8"
      },
      "execution_count": null,
      "outputs": [
        {
          "output_type": "stream",
          "name": "stdout",
          "text": [
            "Средняя продолжительность:  109.606\n"
          ]
        }
      ]
    },
    {
      "cell_type": "markdown",
      "source": [
        "## 6. Неграфический и графический анализ категориальных признаков"
      ],
      "metadata": {
        "id": "Bd-m3BJcz06-"
      }
    },
    {
      "cell_type": "markdown",
      "source": [
        "Выполните неграфический и графический анализ категориальных признаков"
      ],
      "metadata": {
        "id": "JTCeHrjaIyOf"
      }
    },
    {
      "cell_type": "markdown",
      "source": [
        "### *6.1. certificate*"
      ],
      "metadata": {
        "id": "G72XgMKN3z4r"
      }
    },
    {
      "cell_type": "markdown",
      "source": [
        "Описание классификации [the British Board of Film Classification (BBFC)]( https://www.bbfc.co.uk/about-classification/classification-guidelines)"
      ],
      "metadata": {
        "id": "BHNgbMGy6W0e"
      }
    },
    {
      "cell_type": "markdown",
      "source": [
        "Оцените описательные статистики признака с помощью метода describe()"
      ],
      "metadata": {
        "id": "HztDdP-wJwTa"
      }
    },
    {
      "cell_type": "code",
      "source": [
        "dataset['certificate']."
      ],
      "metadata": {
        "id": "fzDbQl9L3v8r"
      },
      "execution_count": null,
      "outputs": []
    },
    {
      "cell_type": "markdown",
      "source": [
        "Изучите уникальные значения признака, получив их с помощью метода unique()"
      ],
      "metadata": {
        "id": "2E0Vjd1bKDYq"
      }
    },
    {
      "cell_type": "code",
      "source": [
        "dataset['certificate']."
      ],
      "metadata": {
        "id": "h1VKyXTz4FHp"
      },
      "execution_count": null,
      "outputs": []
    },
    {
      "cell_type": "markdown",
      "source": [
        "Проведите неграфический структурный анализ с помощью метода value_counts()"
      ],
      "metadata": {
        "id": "qX6CEMd3KOVO"
      }
    },
    {
      "cell_type": "code",
      "source": [
        "dataset['certificate']."
      ],
      "metadata": {
        "id": "CEzE2x684f_-"
      },
      "execution_count": null,
      "outputs": []
    },
    {
      "cell_type": "markdown",
      "source": [
        "Сохраните результаты работы метода value_counts() в переменную certificate_counts, отсортировав значения с помощью метода sort_values(), передав в него параметр (ascending=True) (это необходимо для того, чтобы впоследствии столбчатая диаграмма сортировала значения сверху вниз: наибольшее - сверху, наименьшее - снизу)"
      ],
      "metadata": {
        "id": "sdcRPmbeJBPE"
      }
    },
    {
      "cell_type": "code",
      "source": [
        "certificate_counts = dataset['certificate'].value_counts().sort_values(ascending=True)"
      ],
      "metadata": {
        "id": "MkWmN2x64pGH"
      },
      "execution_count": null,
      "outputs": []
    },
    {
      "cell_type": "markdown",
      "source": [
        "Постройте горизонтальную столбчатую диаграмму с помощью метода barh()"
      ],
      "metadata": {
        "id": "-VrpUZ9OLvvX"
      }
    },
    {
      "cell_type": "code",
      "source": [
        "plt.\n",
        "plt.title('Столбчатая диаграмма распределения фильмов по классам')\n",
        "plt.show()"
      ],
      "metadata": {
        "id": "a89EKFRN45CL"
      },
      "execution_count": null,
      "outputs": []
    },
    {
      "cell_type": "markdown",
      "source": [
        "Выделите топ-5 классов, по которым больше всего фильмов и сохраните результат в переменную certificate_counts_top_5"
      ],
      "metadata": {
        "id": "4oIlstb9MdOv"
      }
    },
    {
      "cell_type": "code",
      "source": [
        "certificate_counts_top_5 = dataset['certificate'].value_counts()[:5]"
      ],
      "metadata": {
        "id": "S1q_T3eg55bz"
      },
      "execution_count": null,
      "outputs": []
    },
    {
      "cell_type": "markdown",
      "source": [
        "Постройте круговую диаграмму с помощью метода pie(), добавив подписи данных с помощью параметра labels и подписи значений с помощью параметра autopct='%.1f' (проценты с одним знаком после запятой)"
      ],
      "metadata": {
        "id": "qyYaxnZLNS2a"
      }
    },
    {
      "cell_type": "markdown",
      "source": [
        "P.s. При анализе категориальных признаков если категорий не больше 5, то предпочтительна круговая диаграмма, в ином случае - столбчатая"
      ],
      "metadata": {
        "id": "_ACRmIV7MrUB"
      }
    },
    {
      "cell_type": "code",
      "source": [
        "plt.\n",
        "plt.show()"
      ],
      "metadata": {
        "id": "SNv_tBO56CiB"
      },
      "execution_count": null,
      "outputs": []
    },
    {
      "cell_type": "markdown",
      "source": [
        "**Выводы:**"
      ],
      "metadata": {
        "id": "XNoGquMQNV3J"
      }
    },
    {
      "cell_type": "markdown",
      "source": [
        "Напишите выводы по разделу:\n",
        "1.   О количестве уникальных значений признака.\n",
        "2.   О наиболее часто встречаемом значении признака (что за значение, сколько раз встретилось).\n",
        "3.   О распределении значений признака (наиболее встречаемые, наименее встречаемые).\n",
        "4.   О результатах графического анализа определенного топ признака (что показывает столбчатая и круговая диаграммы)."
      ],
      "metadata": {
        "id": "gDA5_feeNaZ5"
      }
    },
    {
      "cell_type": "markdown",
      "source": [
        "### **6.2. rating*"
      ],
      "metadata": {
        "id": "iCDnHqZx5a3Z"
      }
    },
    {
      "cell_type": "markdown",
      "source": [
        "По аналогии проанализируйте рейтинг фильмов"
      ],
      "metadata": {
        "id": "apwwDOPG5kh6"
      }
    },
    {
      "cell_type": "code",
      "source": [],
      "metadata": {
        "id": "blRZya-Z5qHT"
      },
      "execution_count": null,
      "outputs": []
    },
    {
      "cell_type": "markdown",
      "source": [
        "### **6.3. director*"
      ],
      "metadata": {
        "id": "ZPdmKyqs5tfc"
      }
    },
    {
      "cell_type": "markdown",
      "source": [
        "По аналогии проанализируйте кинорежиссеров\n",
        "\n",
        "---\n",
        "\n"
      ],
      "metadata": {
        "id": "QjeVUwr25tfd"
      }
    },
    {
      "cell_type": "code",
      "source": [],
      "metadata": {
        "id": "dLeXM-EC5tfe"
      },
      "execution_count": null,
      "outputs": []
    },
    {
      "cell_type": "markdown",
      "source": [
        "## 7. Анализ взаимосвязи двух количественных признаков"
      ],
      "metadata": {
        "id": "vAJp76vN0gTL"
      }
    },
    {
      "cell_type": "markdown",
      "source": [
        "Выполните анализ взаимосвязи двух количественных признаков"
      ],
      "metadata": {
        "id": "xTmCEKbYr-g2"
      }
    },
    {
      "cell_type": "markdown",
      "source": [
        "### *7.1. runtime_clear - gross_earn_clear*"
      ],
      "metadata": {
        "id": "Wrf6bVeHVKBW"
      }
    },
    {
      "cell_type": "markdown",
      "source": [
        "Импортируйте библиотеку seaborn и присвойте ей короткое название sns"
      ],
      "metadata": {
        "id": "grh2doR3sNdk"
      }
    },
    {
      "cell_type": "code",
      "source": [
        "import"
      ],
      "metadata": {
        "id": "rkOSFXqXN7vH"
      },
      "execution_count": null,
      "outputs": []
    },
    {
      "cell_type": "markdown",
      "source": [
        "Постройте диаграмму совместного распределения двух количественных переменных с помощью функции jointplot(), передав параметры size и alpha для улучшения визуализации"
      ],
      "metadata": {
        "id": "opScXnousYJT"
      }
    },
    {
      "cell_type": "code",
      "source": [
        "sns.\n",
        "plt.show()"
      ],
      "metadata": {
        "id": "fxdAuWu8NOfM"
      },
      "execution_count": null,
      "outputs": []
    },
    {
      "cell_type": "markdown",
      "source": [
        "Сохраните колонки 'runtime_clear' и 'gross_earn_clear' в переменную columns и постройте диаграммы рассеяния, используя функции PairGrid(), map() и метод scatterplot, передав параметр alpha для улучшения визуализации"
      ],
      "metadata": {
        "id": "W387nNHns761"
      }
    },
    {
      "cell_type": "code",
      "source": [
        "columns = ['runtime_clear', 'gross_earn_clear']\n",
        "g = sns.\n",
        "g.map("
      ],
      "metadata": {
        "id": "eMueq5cMOUuz"
      },
      "execution_count": null,
      "outputs": []
    },
    {
      "cell_type": "markdown",
      "source": [
        "Исключите выбросы, отфильтровав датасет по 99% процентилю. Для этого сохраните копию исходного датасета в переменную new_dataset с помощью метода copy(). Для каждой колонки в columns ограничьте значения 99% процентилем с помощью метода quantile(), сохраняя объект Series в переменную limiter и фильтруя new_dataset по данному ограничению с помощью оператора <="
      ],
      "metadata": {
        "id": "NdEf5HQIt6YS"
      }
    },
    {
      "cell_type": "code",
      "source": [
        "new_dataset =\n",
        "for col in columns:\n",
        "  limiter =\n",
        "  new_dataset ="
      ],
      "metadata": {
        "id": "uo2wGHKPOnTL"
      },
      "execution_count": null,
      "outputs": []
    },
    {
      "cell_type": "markdown",
      "source": [
        "Постройте диаграммы рассеяния по данным датасета new_dataset, используя функции PairGrid(), map() и метод scatterplot, передав параметр alpha для улучшения визуализации"
      ],
      "metadata": {
        "id": "HS5dgAJ5vFeL"
      }
    },
    {
      "cell_type": "code",
      "source": [
        "g = sns.\n",
        "g.map("
      ],
      "metadata": {
        "id": "n-X1vgdnOtUL"
      },
      "execution_count": null,
      "outputs": []
    },
    {
      "cell_type": "markdown",
      "source": [
        "**Выводы:**"
      ],
      "metadata": {
        "id": "D9PE8nvlvZmS"
      }
    },
    {
      "cell_type": "markdown",
      "source": [
        "Напишите выводы по разделу:\n",
        "1.   О возможной взаимосвязи признаков (присутствует или отсутствует на диаграммах, какая взаимосвязь (линейная, нелинейная))."
      ],
      "metadata": {
        "id": "q65Pl9DfvZ-M"
      }
    },
    {
      "cell_type": "markdown",
      "source": [
        "## 8. Анализ взаимосвязи двух категориальных признаков"
      ],
      "metadata": {
        "id": "rfhui4VDeBZ9"
      }
    },
    {
      "cell_type": "markdown",
      "source": [
        "Выполните анализ взаимосвязи двух категориальных признаков"
      ],
      "metadata": {
        "id": "CN3POEscsEmy"
      }
    },
    {
      "cell_type": "markdown",
      "source": [
        "### *8.1. director - certificate*"
      ],
      "metadata": {
        "id": "oYsozV9-VRwe"
      }
    },
    {
      "cell_type": "markdown",
      "source": [
        "Сохраните уникальные значения признака 'director', определенные с помощью метода unique(), в переменную directors и определите их количество с помощью функции len()"
      ],
      "metadata": {
        "id": "NxoeiRmIwLXw"
      }
    },
    {
      "cell_type": "code",
      "source": [
        "directors =\n",
        "len(directors)"
      ],
      "metadata": {
        "id": "uBRXXQ4gPDQx"
      },
      "execution_count": null,
      "outputs": []
    },
    {
      "cell_type": "markdown",
      "source": [
        "Проведите неграфический структурный анализ признака с помощью метода value_counts()"
      ],
      "metadata": {
        "id": "ucpDRdTTwvwC"
      }
    },
    {
      "cell_type": "code",
      "source": [
        "dataset['director']."
      ],
      "metadata": {
        "id": "PImpazYgQjRj"
      },
      "execution_count": null,
      "outputs": []
    },
    {
      "cell_type": "markdown",
      "source": [
        "Определите топ-5 кинорежиссеров с помощью метода value_counts() и среза, выведите их список при помощи атрибута index и сохраните его в переменную directors_top_5"
      ],
      "metadata": {
        "id": "N5RxrG6vw-wM"
      }
    },
    {
      "cell_type": "code",
      "source": [
        "directors_top_5 = dataset['director'].value_counts()[:5].index\n",
        "directors_top_5"
      ],
      "metadata": {
        "id": "0V5w0ob7RCut"
      },
      "execution_count": null,
      "outputs": []
    },
    {
      "cell_type": "markdown",
      "source": [
        "Для корректного визуального представления распределения признака 'certificate' создайте словарь, в котором каждому классу будет присвоен соответствующий цвет из выбранной цветовой палитры tab20. Для этого в переменную labels сохраните уникальные значения признака, затем в переменную colors сохраните словарь, сформированный с помощью функции dict() из объединенных (с помощью функции zip()) попарно значения классов, сохраненных в переменной labels, и цветов из палитры tab20, выбранных по длине (len()) labels, с помощью выражения plt.cm.tab20.colors"
      ],
      "metadata": {
        "id": "5eP_se-Vxm6U"
      }
    },
    {
      "cell_type": "code",
      "source": [
        "labels =\n",
        "colors =\n",
        "colors"
      ],
      "metadata": {
        "id": "53EkvsqMUa0E"
      },
      "execution_count": null,
      "outputs": []
    },
    {
      "cell_type": "markdown",
      "source": [
        "Для каждого кинорежиссера из топ-5 (directors_top_5) постройте круговые диаграммы с помощью метода pie(). Для этого отфильтруйте исходный датасет признаку director и сохраните его в переменную df; сохраните топ-5 классов фильмов (certificate), определенных с помощью метода value_counts() и среза, в переменную certificate_counts; выведите список уникальных значений топ-5 классов с помощью атрибута index и сохраните его в переменную labels; в качестве названия диаграммы передайте кинорежиссера с помощью метода title(); постройте диаграмму, передав в нее в качестве параметров значения (values), подписи (labels), цвета (colors) и подписи значения в виде процентов autopct='%.1f'"
      ],
      "metadata": {
        "id": "JDGFFvmOzqC2"
      }
    },
    {
      "cell_type": "code",
      "source": [
        "for director in directors_top_5:\n",
        "  df =\n",
        "\n",
        "  certificate_counts =\n",
        "  labels =\n",
        "\n",
        "  plt.title(director)\n",
        "  plt.\n",
        "  plt.show()"
      ],
      "metadata": {
        "id": "_EyIXRZBQwW3"
      },
      "execution_count": null,
      "outputs": []
    },
    {
      "cell_type": "markdown",
      "source": [
        "**Выводы:**"
      ],
      "metadata": {
        "id": "Y9oLLTWb15pH"
      }
    },
    {
      "cell_type": "markdown",
      "source": [
        "Напишите выводы по разделу:\n",
        "1.   О возможной взаимосвязи признаков (присутствует или отсутствует на диаграммах, похожи ли распределения признаков).\n",
        "2.   Об особенностях распределения признака в разрезе основного признака (что характерно для каждого значения основного признака)"
      ],
      "metadata": {
        "id": "f9zU9FLy1-Vm"
      }
    },
    {
      "cell_type": "markdown",
      "source": [
        "### **8.2. director - rating*"
      ],
      "metadata": {
        "id": "EOqC1iUrU-Td"
      }
    },
    {
      "cell_type": "markdown",
      "source": [
        "По аналогии проанализируйте взаимосвязь между рейтингом фильмов и кинорежиссерами"
      ],
      "metadata": {
        "id": "h4FcElnpVj99"
      }
    },
    {
      "cell_type": "code",
      "source": [],
      "metadata": {
        "id": "ynMUueJlWK3S"
      },
      "execution_count": null,
      "outputs": []
    },
    {
      "cell_type": "markdown",
      "source": [
        "### **8.3. certificate - rating*"
      ],
      "metadata": {
        "id": "0NCzVyQ6Wek9"
      }
    },
    {
      "cell_type": "markdown",
      "source": [
        "По аналогии проанализируйте взаимосвязь между классами фильмов и их рейтингом"
      ],
      "metadata": {
        "id": "TkZ3NmIaWek-"
      }
    },
    {
      "cell_type": "code",
      "source": [],
      "metadata": {
        "id": "xtIXlyqtWek_"
      },
      "execution_count": null,
      "outputs": []
    },
    {
      "cell_type": "markdown",
      "source": [
        "## 9. Анализ взаимосвязи количественного и категориального признаков"
      ],
      "metadata": {
        "id": "gQwmX8aD671J"
      }
    },
    {
      "cell_type": "markdown",
      "source": [
        "Выполните анализ взаимосвязи категориального и количественного признаков"
      ],
      "metadata": {
        "id": "g1RWUKTb26a5"
      }
    },
    {
      "cell_type": "markdown",
      "source": [
        "### *9.1. certificate - gross_earn_clear*"
      ],
      "metadata": {
        "id": "8qgg-4zkZ6dS"
      }
    },
    {
      "cell_type": "markdown",
      "source": [
        "Оцените медианные значения доходов с фильмов в разрезе классов фильмов. Для этого сгруппируйте датасет по признаку certificate с помощью метода groupby и к Series ['gross_earn_clear'] метод median()"
      ],
      "metadata": {
        "id": "44yyVyYO3gJ9"
      }
    },
    {
      "cell_type": "code",
      "source": [
        "dataset.groupby("
      ],
      "metadata": {
        "id": "G1V-4JRD665n"
      },
      "execution_count": null,
      "outputs": []
    },
    {
      "cell_type": "markdown",
      "source": [
        "Оцените описательные статистики доходов с фильмов в разрезе классов фильмов, также сгруппировав таблицу и применив метод describe()"
      ],
      "metadata": {
        "id": "13irQUyJ4EEc"
      }
    },
    {
      "cell_type": "code",
      "source": [
        "dataset.groupby("
      ],
      "metadata": {
        "id": "pHunMavmXG0B"
      },
      "execution_count": null,
      "outputs": []
    },
    {
      "cell_type": "markdown",
      "source": [
        "Постройте диаграммы \"ящик с усами\" с помощью метода boxplot(), передав в качестве x - значения классов, а в качестве y - доход с фильмов"
      ],
      "metadata": {
        "id": "T_JiBuJX4aXL"
      }
    },
    {
      "cell_type": "code",
      "source": [
        "sns.\n",
        "plt.show()"
      ],
      "metadata": {
        "id": "T1pXKykJXmBk"
      },
      "execution_count": null,
      "outputs": []
    },
    {
      "cell_type": "markdown",
      "source": [
        "Диаграмма получилась малоинформативна в связи с наличием выбросов, а также ее нагруженностью по количеству значений классов. Оцените количество значений классов с помощью метода value_counts()"
      ],
      "metadata": {
        "id": "yF03b9ne4wQh"
      }
    },
    {
      "cell_type": "code",
      "source": [
        "dataset['certificate']."
      ],
      "metadata": {
        "id": "S0CL9z5xX1c9"
      },
      "execution_count": null,
      "outputs": []
    },
    {
      "cell_type": "markdown",
      "source": [
        "По итогу оценки видно, что крупных классов - 8, поэтому ограничим диаграмму топ-8 классов. Для этого сохраните список топ-8 классов, определенный с помощью метода value_counts(), среза и атрибута index, в переменную certificate_list"
      ],
      "metadata": {
        "id": "2H2d_iLQ5Fmp"
      }
    },
    {
      "cell_type": "code",
      "source": [
        "certificate_list =\n",
        "certificate_list"
      ],
      "metadata": {
        "id": "PTr5lurLYDv7"
      },
      "execution_count": null,
      "outputs": []
    },
    {
      "cell_type": "markdown",
      "source": [
        "Отфильтруйте исходный датасет по признаку certificate с помощью метода isin() и сохраните его в переменную dataset_certificate_top_8. Оцените размеры датасета с помощью атрибута shape"
      ],
      "metadata": {
        "id": "ZJbszWYb5tEX"
      }
    },
    {
      "cell_type": "code",
      "source": [
        "dataset_certificate_top_8 = dataset[dataset['certificate'].isin(certificate_list)]\n",
        "dataset_certificate_top_8.shape"
      ],
      "metadata": {
        "id": "J0suRr9AYpyD"
      },
      "execution_count": null,
      "outputs": []
    },
    {
      "cell_type": "markdown",
      "source": [
        "Постройте диаграммы \"ящик с усами\" с помощью метода boxplot(), передав в качестве x - значения классов, а в качестве y - доход с фильмов, при этом ограничив значение оси y на отметке 25000 с помощью функции plt.axis() и параметров ymin и ymax"
      ],
      "metadata": {
        "id": "6Tv0a4-K6LOC"
      }
    },
    {
      "cell_type": "code",
      "source": [
        "sns.\n",
        "plt.\n",
        "plt.show()"
      ],
      "metadata": {
        "id": "FWDE0Y1kZG1u"
      },
      "execution_count": null,
      "outputs": []
    },
    {
      "cell_type": "markdown",
      "source": [
        "**Выводы:**"
      ],
      "metadata": {
        "id": "aYFltVwA6nvW"
      }
    },
    {
      "cell_type": "markdown",
      "source": [
        "Напишите выводы по разделу:\n",
        "1.   О возможной взаимосвязи признаков (присутствует или отсутствует на диаграммах, похожи ли распределения признаков).\n",
        "2.   Об особенностях распределения признака в разрезе основного признака (что характерно для каждого значения основного признака).\n",
        "3.   О средних величинах (как распределена медиана)."
      ],
      "metadata": {
        "id": "KJS_0ZmC6rp4"
      }
    },
    {
      "cell_type": "markdown",
      "source": [
        "### **9.2. certificate - runtime_clear*"
      ],
      "metadata": {
        "id": "Qt5xHqnCaf4z"
      }
    },
    {
      "cell_type": "markdown",
      "source": [
        "По аналогии проанализируйте взаимосвязь между классами фильмов и их продолжительностью"
      ],
      "metadata": {
        "id": "UXye956Vas6G"
      }
    },
    {
      "cell_type": "code",
      "source": [],
      "metadata": {
        "id": "t_CrQkckZqyd"
      },
      "execution_count": null,
      "outputs": []
    },
    {
      "cell_type": "markdown",
      "source": [
        "### **9.3. director - gross_earn_clear*"
      ],
      "metadata": {
        "id": "3gyUHz4nbEAt"
      }
    },
    {
      "cell_type": "markdown",
      "source": [
        "По аналогии проанализируйте взаимосвязь между кинорежиссерами и доходами с фильмов"
      ],
      "metadata": {
        "id": "EQGuce0lbEAv"
      }
    },
    {
      "cell_type": "code",
      "source": [],
      "metadata": {
        "id": "jrCxzXvqbEAv"
      },
      "execution_count": null,
      "outputs": []
    },
    {
      "cell_type": "markdown",
      "source": [
        "### **9.4. director - runtime_clear*"
      ],
      "metadata": {
        "id": "Kyz1v_UMbGrU"
      }
    },
    {
      "cell_type": "markdown",
      "source": [
        "По аналогии проанализируйте взаимосвязь между кинорежиссерами и продолжительностью фильмов"
      ],
      "metadata": {
        "id": "Al5GBEKXbGrV"
      }
    },
    {
      "cell_type": "code",
      "source": [],
      "metadata": {
        "id": "a_QEiC4UbGrV"
      },
      "execution_count": null,
      "outputs": []
    },
    {
      "cell_type": "markdown",
      "source": [
        "### **9.5. rating - gross_earn_clear*"
      ],
      "metadata": {
        "id": "q_BhBtmrb445"
      }
    },
    {
      "cell_type": "markdown",
      "source": [
        "По аналогии проанализируйте взаимосвязь между рейтингом фильмов и доходами с фильмов"
      ],
      "metadata": {
        "id": "QNhihG6Cb445"
      }
    },
    {
      "cell_type": "code",
      "source": [],
      "metadata": {
        "id": "eezxI8E2b446"
      },
      "execution_count": null,
      "outputs": []
    },
    {
      "cell_type": "markdown",
      "source": [
        "### **9.6. rating - runtime_clear*"
      ],
      "metadata": {
        "id": "ESd2HAesb446"
      }
    },
    {
      "cell_type": "markdown",
      "source": [
        "По аналогии проанализируйте взаимосвязь между рейтингом фильмов и их продолжительностью"
      ],
      "metadata": {
        "id": "iqCH-zTnb446"
      }
    },
    {
      "cell_type": "code",
      "source": [],
      "metadata": {
        "id": "KszuOCnkb446"
      },
      "execution_count": null,
      "outputs": []
    },
    {
      "cell_type": "markdown",
      "source": [
        "## 10. Общий вывод"
      ],
      "metadata": {
        "id": "aKvGYyMg3KoV"
      }
    },
    {
      "cell_type": "markdown",
      "source": [
        "Соберите промежуточные выводы в итоговый вывод по разведочному анализу"
      ],
      "metadata": {
        "id": "jMIiSlDy3VMs"
      }
    },
    {
      "cell_type": "markdown",
      "source": [
        "**Поздравляем! Часть 2 задания по модулю EDA выполнена! Далее Вас ожидают кейсы на фильтрацию, срезы и группировку!**"
      ],
      "metadata": {
        "id": "tCT6WeFO3cYc"
      }
    }
  ],
  "metadata": {
    "colab": {
      "provenance": [],
      "include_colab_link": true
    },
    "kernelspec": {
      "display_name": "Python 3",
      "name": "python3"
    },
    "language_info": {
      "name": "python"
    }
  },
  "nbformat": 4,
  "nbformat_minor": 0
}