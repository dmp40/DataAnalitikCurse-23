{
  "cells": [
    {
      "cell_type": "markdown",
      "metadata": {
        "id": "view-in-github",
        "colab_type": "text"
      },
      "source": [
        "<a href=\"https://colab.research.google.com/github/dmp40/DataAnalitikCurse-23/blob/storks/%D0%9A%D0%BE%D0%BF%D0%B8%D1%8F_%D0%B1%D0%BB%D0%BE%D0%BA%D0%BD%D0%BE%D1%82%D0%B0_%22movies_eda_1_1_ipynb%22.ipynb\" target=\"_parent\"><img src=\"https://colab.research.google.com/assets/colab-badge.svg\" alt=\"Open In Colab\"/></a>"
      ]
    },
    {
      "cell_type": "markdown",
      "source": [
        "# **Разведочный анализ по датасету IMDb Movies: 5000 фильмов с наибольшим рейтингом. Часть 1: Обзор и предобработка данных**"
      ],
      "metadata": {
        "id": "L2Epn7UHiXfS"
      }
    },
    {
      "cell_type": "markdown",
      "source": [
        "![](https://adabul.com/wp-content/uploads/2020/04/diziler-360x240.jpg)"
      ],
      "metadata": {
        "id": "uF5OyCiAZ7Bn"
      }
    },
    {
      "cell_type": "markdown",
      "source": [
        "## 1. Описание датасета и задания"
      ],
      "metadata": {
        "id": "jgCIJe8tjIvI"
      }
    },
    {
      "cell_type": "markdown",
      "source": [
        "Представлен датасет с данными о 5000 фильмах, имеющих наибольший рейтинг на сайте IMDb (датасет выложен на платформе [Kaggle](https://www.kaggle.com/datasets/totoro29/imdb-movies))."
      ],
      "metadata": {
        "id": "ODZr1pzSjUEZ"
      }
    },
    {
      "cell_type": "markdown",
      "source": [
        "***Информация, содержащаяся в датасете:***\n",
        "1.   Ссылка на постер фильма (poster).\n",
        "2.   Наименование фильма (title).\n",
        "3.   Класс фильма по рейтингу the British Board of Film Classification (BBFC) (certificate).\n",
        "4.   Продолжительность фильма (runtime).\n",
        "5.   Жанр фильма (genre).\n",
        "6.   Рейтинг фильма на платформе IMBD (rating).\n",
        "7.   Описание сюжета фильма (about).\n",
        "8.   Кинорежиссер фильма (director).\n",
        "9.   Актеры-звезды фильма (stars).\n",
        "10.  Количество проголосовавших за фильм (votes).\n",
        "11.  Доход с фильма (gross_earn).\n",
        "\n"
      ],
      "metadata": {
        "id": "wU83gIaOVmSq"
      }
    },
    {
      "cell_type": "markdown",
      "source": [
        "***Задача:***\n",
        "провести разведочный анализ данных, найти взаимосвязи и сформулировать выводы."
      ],
      "metadata": {
        "id": "peR0dY_JVeCJ"
      }
    },
    {
      "cell_type": "markdown",
      "source": [
        "**В части 1 задания необходимо:**\n",
        "1.   Выполнить обзор данных.\n",
        "2.   Оценить датасет на наличие дубликатов и при необходимости обработать их.\n",
        "3.   Оценить признаки на наличие пропусков и при необходимости обработать их.\n",
        "4.   Привести данные к необходимому для анализа типу.\n",
        "5.   Отсортировать и сохранить датасет для дальнейшего анализа.\n",
        "\n",
        "\n",
        "\n",
        "\n",
        "\n"
      ],
      "metadata": {
        "id": "Ef42FcCzkpb9"
      }
    },
    {
      "cell_type": "markdown",
      "source": [
        "## 2. Загрузка датасета"
      ],
      "metadata": {
        "id": "Tjg16j1yj7h3"
      }
    },
    {
      "cell_type": "code",
      "source": [
        "!gdown --id 1imLd48Tn7Z2iiORJp6tKWR0whfWBrP-0"
      ],
      "metadata": {
        "id": "hXVPxaqzkA1T",
        "colab": {
          "base_uri": "https://localhost:8080/"
        },
        "outputId": "adf133b7-6e1b-4f2e-fd46-5272a11178ce"
      },
      "execution_count": 10,
      "outputs": [
        {
          "output_type": "stream",
          "name": "stdout",
          "text": [
            "/usr/local/lib/python3.10/dist-packages/gdown/cli.py:121: FutureWarning: Option `--id` was deprecated in version 4.3.1 and will be removed in 5.0. You don't need to pass it anymore to use a file ID.\n",
            "  warnings.warn(\n",
            "Downloading...\n",
            "From: https://drive.google.com/uc?id=1imLd48Tn7Z2iiORJp6tKWR0whfWBrP-0\n",
            "To: /content/movies.csv\n",
            "100% 1.89M/1.89M [00:00<00:00, 45.8MB/s]\n"
          ]
        }
      ]
    },
    {
      "cell_type": "markdown",
      "source": [
        "## 3. Подгрузка данных в питон и начало работы с ними"
      ],
      "metadata": {
        "id": "Ui2UmktdkfBX"
      }
    },
    {
      "cell_type": "markdown",
      "source": [
        "Импортируйте библиотеку pandas и присвойте ей короткое название pd"
      ],
      "metadata": {
        "id": "GOhi3LqkhwaO"
      }
    },
    {
      "cell_type": "code",
      "execution_count": 8,
      "metadata": {
        "id": "HDirS7pLCdac"
      },
      "outputs": [],
      "source": [
        "import pandas as pd\n"
      ]
    },
    {
      "cell_type": "markdown",
      "source": [
        "Откройте датасет movies.csv и сохраните его в переменную dataset"
      ],
      "metadata": {
        "id": "XNGRVqpyh28Y"
      }
    },
    {
      "cell_type": "code",
      "execution_count": 11,
      "metadata": {
        "id": "PXy_b8D-DYxq"
      },
      "outputs": [],
      "source": [
        "dataset = pd.read_csv('/content/movies.csv')"
      ]
    },
    {
      "cell_type": "markdown",
      "source": [
        "Проведите обзор таблицы с помощью метода head()"
      ],
      "metadata": {
        "id": "v5G-GfyWiZUg"
      }
    },
    {
      "cell_type": "code",
      "source": [
        "dataset.head()"
      ],
      "metadata": {
        "id": "777NV7RZkwos",
        "colab": {
          "base_uri": "https://localhost:8080/",
          "height": 643
        },
        "outputId": "3285d327-656e-4b9e-b2a6-db548b875439"
      },
      "execution_count": 12,
      "outputs": [
        {
          "output_type": "execute_result",
          "data": {
            "text/plain": [
              "                                              poster  \\\n",
              "0  https://m.media-amazon.com/images/S/sash/4Fyxw...   \n",
              "1  https://m.media-amazon.com/images/S/sash/4Fyxw...   \n",
              "2  https://m.media-amazon.com/images/S/sash/4Fyxw...   \n",
              "3  https://m.media-amazon.com/images/S/sash/4Fyxw...   \n",
              "4  https://m.media-amazon.com/images/S/sash/4Fyxw...   \n",
              "\n",
              "                      title certificate  runtime                      genre  \\\n",
              "0  The Shawshank Redemption          15  142 min                      Drama   \n",
              "1           The Dark Knight         12A  152 min       Action, Crime, Drama   \n",
              "2                 Inception         12A  148 min  Action, Adventure, Sci-Fi   \n",
              "3                Fight Club          18  139 min                      Drama   \n",
              "4              Pulp Fiction          18  154 min               Crime, Drama   \n",
              "\n",
              "   rating                                              about  \\\n",
              "0     9.3  Two imprisoned men bond over a number of years...   \n",
              "1     9.0  When the menace known as the Joker wreaks havo...   \n",
              "2     8.8  A thief who steals corporate secrets through t...   \n",
              "3     8.8  An insomniac office worker and a devil-may-car...   \n",
              "4     8.9  The lives of two mob hitmen, a boxer, a gangst...   \n",
              "\n",
              "            director                                              stars  \\\n",
              "0     Frank Darabont  ('Tim Robbins',), ('Morgan Freeman',), ('Bob G...   \n",
              "1  Christopher Nolan  ('Christian Bale',), ('Heath Ledger',), ('Aaro...   \n",
              "2  Christopher Nolan  ('Leonardo DiCaprio',), ('Joseph Gordon-Levitt...   \n",
              "3      David Fincher  ('Brad Pitt',), ('Edward Norton',), ('Meat Loa...   \n",
              "4  Quentin Tarantino  ('John Travolta',), ('Uma Thurman',), ('Samuel...   \n",
              "\n",
              "       votes gross_earn  \n",
              "0  26,26,905    $28.34M  \n",
              "1  25,98,173   $534.86M  \n",
              "2  23,04,062   $292.58M  \n",
              "3  20,71,088    $37.03M  \n",
              "4  20,11,013   $107.93M  "
            ],
            "text/html": [
              "\n",
              "  <div id=\"df-25b84ca1-acf6-4fdb-8139-23d605f18b5e\" class=\"colab-df-container\">\n",
              "    <div>\n",
              "<style scoped>\n",
              "    .dataframe tbody tr th:only-of-type {\n",
              "        vertical-align: middle;\n",
              "    }\n",
              "\n",
              "    .dataframe tbody tr th {\n",
              "        vertical-align: top;\n",
              "    }\n",
              "\n",
              "    .dataframe thead th {\n",
              "        text-align: right;\n",
              "    }\n",
              "</style>\n",
              "<table border=\"1\" class=\"dataframe\">\n",
              "  <thead>\n",
              "    <tr style=\"text-align: right;\">\n",
              "      <th></th>\n",
              "      <th>poster</th>\n",
              "      <th>title</th>\n",
              "      <th>certificate</th>\n",
              "      <th>runtime</th>\n",
              "      <th>genre</th>\n",
              "      <th>rating</th>\n",
              "      <th>about</th>\n",
              "      <th>director</th>\n",
              "      <th>stars</th>\n",
              "      <th>votes</th>\n",
              "      <th>gross_earn</th>\n",
              "    </tr>\n",
              "  </thead>\n",
              "  <tbody>\n",
              "    <tr>\n",
              "      <th>0</th>\n",
              "      <td>https://m.media-amazon.com/images/S/sash/4Fyxw...</td>\n",
              "      <td>The Shawshank Redemption</td>\n",
              "      <td>15</td>\n",
              "      <td>142 min</td>\n",
              "      <td>Drama</td>\n",
              "      <td>9.3</td>\n",
              "      <td>Two imprisoned men bond over a number of years...</td>\n",
              "      <td>Frank Darabont</td>\n",
              "      <td>('Tim Robbins',), ('Morgan Freeman',), ('Bob G...</td>\n",
              "      <td>26,26,905</td>\n",
              "      <td>$28.34M</td>\n",
              "    </tr>\n",
              "    <tr>\n",
              "      <th>1</th>\n",
              "      <td>https://m.media-amazon.com/images/S/sash/4Fyxw...</td>\n",
              "      <td>The Dark Knight</td>\n",
              "      <td>12A</td>\n",
              "      <td>152 min</td>\n",
              "      <td>Action, Crime, Drama</td>\n",
              "      <td>9.0</td>\n",
              "      <td>When the menace known as the Joker wreaks havo...</td>\n",
              "      <td>Christopher Nolan</td>\n",
              "      <td>('Christian Bale',), ('Heath Ledger',), ('Aaro...</td>\n",
              "      <td>25,98,173</td>\n",
              "      <td>$534.86M</td>\n",
              "    </tr>\n",
              "    <tr>\n",
              "      <th>2</th>\n",
              "      <td>https://m.media-amazon.com/images/S/sash/4Fyxw...</td>\n",
              "      <td>Inception</td>\n",
              "      <td>12A</td>\n",
              "      <td>148 min</td>\n",
              "      <td>Action, Adventure, Sci-Fi</td>\n",
              "      <td>8.8</td>\n",
              "      <td>A thief who steals corporate secrets through t...</td>\n",
              "      <td>Christopher Nolan</td>\n",
              "      <td>('Leonardo DiCaprio',), ('Joseph Gordon-Levitt...</td>\n",
              "      <td>23,04,062</td>\n",
              "      <td>$292.58M</td>\n",
              "    </tr>\n",
              "    <tr>\n",
              "      <th>3</th>\n",
              "      <td>https://m.media-amazon.com/images/S/sash/4Fyxw...</td>\n",
              "      <td>Fight Club</td>\n",
              "      <td>18</td>\n",
              "      <td>139 min</td>\n",
              "      <td>Drama</td>\n",
              "      <td>8.8</td>\n",
              "      <td>An insomniac office worker and a devil-may-car...</td>\n",
              "      <td>David Fincher</td>\n",
              "      <td>('Brad Pitt',), ('Edward Norton',), ('Meat Loa...</td>\n",
              "      <td>20,71,088</td>\n",
              "      <td>$37.03M</td>\n",
              "    </tr>\n",
              "    <tr>\n",
              "      <th>4</th>\n",
              "      <td>https://m.media-amazon.com/images/S/sash/4Fyxw...</td>\n",
              "      <td>Pulp Fiction</td>\n",
              "      <td>18</td>\n",
              "      <td>154 min</td>\n",
              "      <td>Crime, Drama</td>\n",
              "      <td>8.9</td>\n",
              "      <td>The lives of two mob hitmen, a boxer, a gangst...</td>\n",
              "      <td>Quentin Tarantino</td>\n",
              "      <td>('John Travolta',), ('Uma Thurman',), ('Samuel...</td>\n",
              "      <td>20,11,013</td>\n",
              "      <td>$107.93M</td>\n",
              "    </tr>\n",
              "  </tbody>\n",
              "</table>\n",
              "</div>\n",
              "    <div class=\"colab-df-buttons\">\n",
              "\n",
              "  <div class=\"colab-df-container\">\n",
              "    <button class=\"colab-df-convert\" onclick=\"convertToInteractive('df-25b84ca1-acf6-4fdb-8139-23d605f18b5e')\"\n",
              "            title=\"Convert this dataframe to an interactive table.\"\n",
              "            style=\"display:none;\">\n",
              "\n",
              "  <svg xmlns=\"http://www.w3.org/2000/svg\" height=\"24px\" viewBox=\"0 -960 960 960\">\n",
              "    <path d=\"M120-120v-720h720v720H120Zm60-500h600v-160H180v160Zm220 220h160v-160H400v160Zm0 220h160v-160H400v160ZM180-400h160v-160H180v160Zm440 0h160v-160H620v160ZM180-180h160v-160H180v160Zm440 0h160v-160H620v160Z\"/>\n",
              "  </svg>\n",
              "    </button>\n",
              "\n",
              "  <style>\n",
              "    .colab-df-container {\n",
              "      display:flex;\n",
              "      gap: 12px;\n",
              "    }\n",
              "\n",
              "    .colab-df-convert {\n",
              "      background-color: #E8F0FE;\n",
              "      border: none;\n",
              "      border-radius: 50%;\n",
              "      cursor: pointer;\n",
              "      display: none;\n",
              "      fill: #1967D2;\n",
              "      height: 32px;\n",
              "      padding: 0 0 0 0;\n",
              "      width: 32px;\n",
              "    }\n",
              "\n",
              "    .colab-df-convert:hover {\n",
              "      background-color: #E2EBFA;\n",
              "      box-shadow: 0px 1px 2px rgba(60, 64, 67, 0.3), 0px 1px 3px 1px rgba(60, 64, 67, 0.15);\n",
              "      fill: #174EA6;\n",
              "    }\n",
              "\n",
              "    .colab-df-buttons div {\n",
              "      margin-bottom: 4px;\n",
              "    }\n",
              "\n",
              "    [theme=dark] .colab-df-convert {\n",
              "      background-color: #3B4455;\n",
              "      fill: #D2E3FC;\n",
              "    }\n",
              "\n",
              "    [theme=dark] .colab-df-convert:hover {\n",
              "      background-color: #434B5C;\n",
              "      box-shadow: 0px 1px 3px 1px rgba(0, 0, 0, 0.15);\n",
              "      filter: drop-shadow(0px 1px 2px rgba(0, 0, 0, 0.3));\n",
              "      fill: #FFFFFF;\n",
              "    }\n",
              "  </style>\n",
              "\n",
              "    <script>\n",
              "      const buttonEl =\n",
              "        document.querySelector('#df-25b84ca1-acf6-4fdb-8139-23d605f18b5e button.colab-df-convert');\n",
              "      buttonEl.style.display =\n",
              "        google.colab.kernel.accessAllowed ? 'block' : 'none';\n",
              "\n",
              "      async function convertToInteractive(key) {\n",
              "        const element = document.querySelector('#df-25b84ca1-acf6-4fdb-8139-23d605f18b5e');\n",
              "        const dataTable =\n",
              "          await google.colab.kernel.invokeFunction('convertToInteractive',\n",
              "                                                    [key], {});\n",
              "        if (!dataTable) return;\n",
              "\n",
              "        const docLinkHtml = 'Like what you see? Visit the ' +\n",
              "          '<a target=\"_blank\" href=https://colab.research.google.com/notebooks/data_table.ipynb>data table notebook</a>'\n",
              "          + ' to learn more about interactive tables.';\n",
              "        element.innerHTML = '';\n",
              "        dataTable['output_type'] = 'display_data';\n",
              "        await google.colab.output.renderOutput(dataTable, element);\n",
              "        const docLink = document.createElement('div');\n",
              "        docLink.innerHTML = docLinkHtml;\n",
              "        element.appendChild(docLink);\n",
              "      }\n",
              "    </script>\n",
              "  </div>\n",
              "\n",
              "\n",
              "<div id=\"df-16f51e73-c1aa-4d30-a9d9-9ef2ef3e0c48\">\n",
              "  <button class=\"colab-df-quickchart\" onclick=\"quickchart('df-16f51e73-c1aa-4d30-a9d9-9ef2ef3e0c48')\"\n",
              "            title=\"Suggest charts.\"\n",
              "            style=\"display:none;\">\n",
              "\n",
              "<svg xmlns=\"http://www.w3.org/2000/svg\" height=\"24px\"viewBox=\"0 0 24 24\"\n",
              "     width=\"24px\">\n",
              "    <g>\n",
              "        <path d=\"M19 3H5c-1.1 0-2 .9-2 2v14c0 1.1.9 2 2 2h14c1.1 0 2-.9 2-2V5c0-1.1-.9-2-2-2zM9 17H7v-7h2v7zm4 0h-2V7h2v10zm4 0h-2v-4h2v4z\"/>\n",
              "    </g>\n",
              "</svg>\n",
              "  </button>\n",
              "\n",
              "<style>\n",
              "  .colab-df-quickchart {\n",
              "      --bg-color: #E8F0FE;\n",
              "      --fill-color: #1967D2;\n",
              "      --hover-bg-color: #E2EBFA;\n",
              "      --hover-fill-color: #174EA6;\n",
              "      --disabled-fill-color: #AAA;\n",
              "      --disabled-bg-color: #DDD;\n",
              "  }\n",
              "\n",
              "  [theme=dark] .colab-df-quickchart {\n",
              "      --bg-color: #3B4455;\n",
              "      --fill-color: #D2E3FC;\n",
              "      --hover-bg-color: #434B5C;\n",
              "      --hover-fill-color: #FFFFFF;\n",
              "      --disabled-bg-color: #3B4455;\n",
              "      --disabled-fill-color: #666;\n",
              "  }\n",
              "\n",
              "  .colab-df-quickchart {\n",
              "    background-color: var(--bg-color);\n",
              "    border: none;\n",
              "    border-radius: 50%;\n",
              "    cursor: pointer;\n",
              "    display: none;\n",
              "    fill: var(--fill-color);\n",
              "    height: 32px;\n",
              "    padding: 0;\n",
              "    width: 32px;\n",
              "  }\n",
              "\n",
              "  .colab-df-quickchart:hover {\n",
              "    background-color: var(--hover-bg-color);\n",
              "    box-shadow: 0 1px 2px rgba(60, 64, 67, 0.3), 0 1px 3px 1px rgba(60, 64, 67, 0.15);\n",
              "    fill: var(--button-hover-fill-color);\n",
              "  }\n",
              "\n",
              "  .colab-df-quickchart-complete:disabled,\n",
              "  .colab-df-quickchart-complete:disabled:hover {\n",
              "    background-color: var(--disabled-bg-color);\n",
              "    fill: var(--disabled-fill-color);\n",
              "    box-shadow: none;\n",
              "  }\n",
              "\n",
              "  .colab-df-spinner {\n",
              "    border: 2px solid var(--fill-color);\n",
              "    border-color: transparent;\n",
              "    border-bottom-color: var(--fill-color);\n",
              "    animation:\n",
              "      spin 1s steps(1) infinite;\n",
              "  }\n",
              "\n",
              "  @keyframes spin {\n",
              "    0% {\n",
              "      border-color: transparent;\n",
              "      border-bottom-color: var(--fill-color);\n",
              "      border-left-color: var(--fill-color);\n",
              "    }\n",
              "    20% {\n",
              "      border-color: transparent;\n",
              "      border-left-color: var(--fill-color);\n",
              "      border-top-color: var(--fill-color);\n",
              "    }\n",
              "    30% {\n",
              "      border-color: transparent;\n",
              "      border-left-color: var(--fill-color);\n",
              "      border-top-color: var(--fill-color);\n",
              "      border-right-color: var(--fill-color);\n",
              "    }\n",
              "    40% {\n",
              "      border-color: transparent;\n",
              "      border-right-color: var(--fill-color);\n",
              "      border-top-color: var(--fill-color);\n",
              "    }\n",
              "    60% {\n",
              "      border-color: transparent;\n",
              "      border-right-color: var(--fill-color);\n",
              "    }\n",
              "    80% {\n",
              "      border-color: transparent;\n",
              "      border-right-color: var(--fill-color);\n",
              "      border-bottom-color: var(--fill-color);\n",
              "    }\n",
              "    90% {\n",
              "      border-color: transparent;\n",
              "      border-bottom-color: var(--fill-color);\n",
              "    }\n",
              "  }\n",
              "</style>\n",
              "\n",
              "  <script>\n",
              "    async function quickchart(key) {\n",
              "      const quickchartButtonEl =\n",
              "        document.querySelector('#' + key + ' button');\n",
              "      quickchartButtonEl.disabled = true;  // To prevent multiple clicks.\n",
              "      quickchartButtonEl.classList.add('colab-df-spinner');\n",
              "      try {\n",
              "        const charts = await google.colab.kernel.invokeFunction(\n",
              "            'suggestCharts', [key], {});\n",
              "      } catch (error) {\n",
              "        console.error('Error during call to suggestCharts:', error);\n",
              "      }\n",
              "      quickchartButtonEl.classList.remove('colab-df-spinner');\n",
              "      quickchartButtonEl.classList.add('colab-df-quickchart-complete');\n",
              "    }\n",
              "    (() => {\n",
              "      let quickchartButtonEl =\n",
              "        document.querySelector('#df-16f51e73-c1aa-4d30-a9d9-9ef2ef3e0c48 button');\n",
              "      quickchartButtonEl.style.display =\n",
              "        google.colab.kernel.accessAllowed ? 'block' : 'none';\n",
              "    })();\n",
              "  </script>\n",
              "</div>\n",
              "    </div>\n",
              "  </div>\n"
            ]
          },
          "metadata": {},
          "execution_count": 12
        }
      ]
    },
    {
      "cell_type": "markdown",
      "source": [
        "## 4. Оценка размеров датасета, наличия дубликатов и пропусков"
      ],
      "metadata": {
        "id": "3uHWsjiUlAVn"
      }
    },
    {
      "cell_type": "markdown",
      "source": [
        "Оцените размеры датасета с помощью атрибута shape"
      ],
      "metadata": {
        "id": "pKCuhhm4feDW"
      }
    },
    {
      "cell_type": "code",
      "execution_count": null,
      "metadata": {
        "id": "Mbniz7lAHMdW",
        "colab": {
          "base_uri": "https://localhost:8080/"
        },
        "outputId": "6476f2f0-ddaa-42ba-dff0-ba505142485b"
      },
      "outputs": [
        {
          "output_type": "execute_result",
          "data": {
            "text/plain": [
              "(5000, 11)"
            ]
          },
          "metadata": {},
          "execution_count": 5
        }
      ],
      "source": [
        "dataset.shape"
      ]
    },
    {
      "cell_type": "markdown",
      "source": [
        "Выведите информацию о датасете с помощью метода info(). Оцените признаки и типы данных, обратите внимание на пропущенные значения"
      ],
      "metadata": {
        "id": "-JVqJfqofmEp"
      }
    },
    {
      "cell_type": "code",
      "source": [
        "dataset.info()"
      ],
      "metadata": {
        "id": "Rb9-5dw7lL-_",
        "colab": {
          "base_uri": "https://localhost:8080/"
        },
        "outputId": "6820f3ed-c221-4f43-8d0d-0a5c45049019"
      },
      "execution_count": null,
      "outputs": [
        {
          "output_type": "stream",
          "name": "stdout",
          "text": [
            "<class 'pandas.core.frame.DataFrame'>\n",
            "RangeIndex: 5000 entries, 0 to 4999\n",
            "Data columns (total 11 columns):\n",
            " #   Column       Non-Null Count  Dtype  \n",
            "---  ------       --------------  -----  \n",
            " 0   poster       5000 non-null   object \n",
            " 1   title        5000 non-null   object \n",
            " 2   certificate  5000 non-null   object \n",
            " 3   runtime      5000 non-null   object \n",
            " 4   genre        4970 non-null   object \n",
            " 5   rating       5000 non-null   float64\n",
            " 6   about        4986 non-null   object \n",
            " 7   director     5000 non-null   object \n",
            " 8   stars        5000 non-null   object \n",
            " 9   votes        5000 non-null   object \n",
            " 10  gross_earn   4585 non-null   object \n",
            "dtypes: float64(1), object(10)\n",
            "memory usage: 429.8+ KB\n"
          ]
        }
      ]
    },
    {
      "cell_type": "markdown",
      "source": [
        "Оцените наличие дубликатов в датасете с помощью метода duplicated() в связке с sum() (при необходимости исключите полные дубликаты)"
      ],
      "metadata": {
        "id": "AqF3KuIugDUA"
      }
    },
    {
      "cell_type": "code",
      "execution_count": null,
      "metadata": {
        "id": "Q_MAd-7IHVev",
        "colab": {
          "base_uri": "https://localhost:8080/"
        },
        "outputId": "3322f0a4-31ab-4473-8b94-3e9dd2c91be5"
      },
      "outputs": [
        {
          "output_type": "execute_result",
          "data": {
            "text/plain": [
              "0"
            ]
          },
          "metadata": {},
          "execution_count": 7
        }
      ],
      "source": [
        "dataset.duplicated().sum()"
      ]
    },
    {
      "cell_type": "markdown",
      "source": [
        "P.s. бывают ситуации, когда нет необходимости удалять дубликаты, т.к. их наличие может нести ценную информацию при анализе."
      ],
      "metadata": {
        "id": "93d03vUNlDZr"
      }
    },
    {
      "cell_type": "markdown",
      "source": [
        "Оцените наличие пропущенных значений в датасете по признаку gross_earn"
      ],
      "metadata": {
        "id": "mDDGcBNhg4CH"
      }
    },
    {
      "cell_type": "code",
      "source": [
        "dataset['gross_earn'].isnull().sum()"
      ],
      "metadata": {
        "id": "ibVN4eMgl3bF",
        "colab": {
          "base_uri": "https://localhost:8080/"
        },
        "outputId": "9ceef64b-66de-4db8-925c-e8db6c30c569"
      },
      "execution_count": 13,
      "outputs": [
        {
          "output_type": "execute_result",
          "data": {
            "text/plain": [
              "415"
            ]
          },
          "metadata": {},
          "execution_count": 13
        }
      ]
    },
    {
      "cell_type": "markdown",
      "source": [
        "P.s. не стоит исключать наблюдения с пропущенными значениями на этапе предобработки датасета, если нет жесткого требования это делать. Так можно потерять информацию по другим более значимым признакам. Кроме того, их наличие может нести ценную информацию при анализе."
      ],
      "metadata": {
        "id": "ockjWssjjvDF"
      }
    },
    {
      "cell_type": "markdown",
      "source": [
        "**Выводы:**"
      ],
      "metadata": {
        "id": "g8VaEPz_kVPe"
      }
    },
    {
      "cell_type": "markdown",
      "source": [
        "Напишите выводы по разделу:\n",
        "1.   О размерах датасета (количество признаков и количество наблюдений).\n",
        "2.   О типах данных (какие есть и какие должны быть, нужна ли предобработа).\n",
        "3.   О дубликатах (их наличие, нужна ли предобработка).\n",
        "4.   О пропущенных значениях (их наличие, нужна ли предобработка).\n",
        "5.   О возможных проблемах, которые могут возникнуть при анализе.\n",
        "\n"
      ],
      "metadata": {
        "id": "gTrlw0afkaE4"
      }
    },
    {
      "cell_type": "markdown",
      "source": [
        "## 5. Обработка колонок runtime и gross_earn: приведение к числовому типу"
      ],
      "metadata": {
        "id": "Int1osF-mdy-"
      }
    },
    {
      "cell_type": "markdown",
      "source": [
        "Приведите значения признаков runtime и gross_earn к числовому типу, исключив лишние символы"
      ],
      "metadata": {
        "id": "pr-FxQ0Zlc-z"
      }
    },
    {
      "cell_type": "markdown",
      "source": [
        "### *5.1. runtime*"
      ],
      "metadata": {
        "id": "gp81b9DUrIEr"
      }
    },
    {
      "cell_type": "markdown",
      "source": [
        "Выведите Series ['runtime'] для детального просмотра данных"
      ],
      "metadata": {
        "id": "gcGr7u2Vm7Ny"
      }
    },
    {
      "cell_type": "code",
      "execution_count": 14,
      "metadata": {
        "id": "B4HhGwUOKCfU",
        "colab": {
          "base_uri": "https://localhost:8080/"
        },
        "outputId": "ab40d06e-48ae-4eb5-9f5f-cdbbaffbef0d"
      },
      "outputs": [
        {
          "output_type": "execute_result",
          "data": {
            "text/plain": [
              "0              142 min\n",
              "1              152 min\n",
              "2              148 min\n",
              "3              139 min\n",
              "4              154 min\n",
              "             ...      \n",
              "4995           102 min\n",
              "4996            94 min\n",
              "4997    Drama, Romance\n",
              "4998            92 min\n",
              "4999           120 min\n",
              "Name: runtime, Length: 5000, dtype: object"
            ]
          },
          "metadata": {},
          "execution_count": 14
        }
      ],
      "source": [
        "dataset['runtime']"
      ]
    },
    {
      "cell_type": "markdown",
      "source": [
        "По индексу 4997 в признак попало аномальное значение - Drama, Romance"
      ],
      "metadata": {
        "id": "MuCBWTvJnEHF"
      }
    },
    {
      "cell_type": "markdown",
      "source": [
        "Выведите уникальные значения по Series ['runtime'] с помощью метода unique()"
      ],
      "metadata": {
        "id": "r8_UlDDRnSg1"
      }
    },
    {
      "cell_type": "code",
      "source": [
        "dataset['runtime'].unique()"
      ],
      "metadata": {
        "id": "PhrGIpCboJqC",
        "colab": {
          "base_uri": "https://localhost:8080/"
        },
        "outputId": "479e9547-bd43-47ed-d130-f335abc69f5d"
      },
      "execution_count": null,
      "outputs": [
        {
          "output_type": "execute_result",
          "data": {
            "text/plain": [
              "array(['142 min', '152 min', '148 min', '139 min', '154 min', '178 min',\n",
              "       '136 min', '201 min', '175 min', '164 min', '179 min', '127 min',\n",
              "       '143 min', '155 min', '140 min', '165 min', '169 min', '121 min',\n",
              "       '118 min', '162 min', '153 min', '151 min', '195 min', '113 min',\n",
              "       '130 min', '124 min', '122 min', '194 min', '132 min', '202 min',\n",
              "       '138 min', '119 min', '189 min', '180 min', '137 min', '106 min',\n",
              "       '111 min', '116 min', '145 min', '110 min', '98 min', '107 min',\n",
              "       '126 min', '100 min', '131 min', '133 min', '103 min', '108 min',\n",
              "       '96 min', '99 min', '115 min', '88 min', '120 min', '81 min',\n",
              "       '135 min', '146 min', '117 min', '104 min', '92 min', '91 min',\n",
              "       '102 min', '149 min', '170 min', '112 min', '101 min', '141 min',\n",
              "       '144 min', '114 min', '150 min', '90 min', '161 min', '128 min',\n",
              "       '93 min', '129 min', '166 min', '147 min', '134 min', '109 min',\n",
              "       '105 min', '125 min', '156 min', '123 min', '95 min', '157 min',\n",
              "       '163 min', '158 min', '89 min', '187 min', '167 min', '84 min',\n",
              "       '94 min', '85 min', '172 min', '160 min', '168 min', '86 min',\n",
              "       '97 min', '87 min', '183 min', '188 min', '207 min', '159 min',\n",
              "       '76 min', '229 min', '238 min', '83 min', '218 min', '77 min',\n",
              "       '181 min', '191 min', '80 min', '212 min', '78 min', '79 min',\n",
              "       '82 min', '74 min', '185 min', '75 min', '197 min', '69 min',\n",
              "       '64 min', '224 min', '68 min', '210 min', '177 min', '193 min',\n",
              "       '67 min', '174 min', '70 min', '220 min', '321 min', 'Comedy',\n",
              "       '186 min', 'Action, Crime, Mystery', '198 min', '58 min',\n",
              "       'Comedy, Drama, Romance', 'Comedy, Romance', '192 min', '242 min',\n",
              "       'Horror', '204 min', 'Comedy, Drama', '171 min', '63 min',\n",
              "       'Horror, Sci-Fi, Thriller', 'Action, Biography, Drama', '182 min',\n",
              "       '176 min', '196 min', 'Drama', '205 min', 'Action, Drama, War',\n",
              "       '71 min', '259 min', '45 min', 'Fantasy, Romance',\n",
              "       'Action, Crime, Comedy', 'Crime, Drama, Mystery',\n",
              "       'Action, Adventure, Drama', 'Drama, Horror, Mystery',\n",
              "       'Crime, Mystery', '213 min', '72 min', '216 min',\n",
              "       'Comedy, Western', '317 min', 'Adventure, Drama, Romance',\n",
              "       'Fantasy, Horror', 'Adventure, Comedy', 'Comedy, Family',\n",
              "       'Adventure, Comedy, Romance', '366 min', 'Action, Comedy',\n",
              "       'Adventure, Comedy, Fantasy', 'Action, Crime, Thriller',\n",
              "       'Action, Adventure, Sci-Fi', 'Drama, Romance'], dtype=object)"
            ]
          },
          "metadata": {},
          "execution_count": 13
        }
      ]
    },
    {
      "cell_type": "markdown",
      "source": [
        "Таких аномальных значений несколько. Следует исключить их из датасета"
      ],
      "metadata": {
        "id": "aX6ujpINnqVX"
      }
    },
    {
      "cell_type": "markdown",
      "source": [
        "Импортируйте библиотеку re"
      ],
      "metadata": {
        "id": "TZAtdQlbn9IE"
      }
    },
    {
      "cell_type": "code",
      "source": [
        "import re"
      ],
      "metadata": {
        "id": "-YjdyM_7o1aq"
      },
      "execution_count": 5,
      "outputs": []
    },
    {
      "cell_type": "markdown",
      "source": [
        "Напишите функцию, которая исключит нецифровые символы с помощью регулярных выражений"
      ],
      "metadata": {
        "id": "JHI-nCi8n_AA"
      }
    },
    {
      "cell_type": "code",
      "source": [
        "def clear_runtime(runtime):\n",
        "  runtime_int =  (re.sub('\\D','', runtime))\n",
        "  if runtime_int == '':\n",
        "    runtime_int = 0\n",
        "  return int(runtime_int)"
      ],
      "metadata": {
        "id": "bYp8o4HVoZ2v"
      },
      "execution_count": 48,
      "outputs": []
    },
    {
      "cell_type": "code",
      "source": [
        "print(clear_runtime('Adventure '))"
      ],
      "metadata": {
        "colab": {
          "base_uri": "https://localhost:8080/"
        },
        "id": "RpP-CRI4ftu6",
        "outputId": "5a0ab7b1-28fd-4ac1-e591-1717ae88e04f"
      },
      "execution_count": 49,
      "outputs": [
        {
          "output_type": "stream",
          "name": "stdout",
          "text": [
            "0\n"
          ]
        }
      ]
    },
    {
      "cell_type": "markdown",
      "source": [
        "Примените функцию к Series ['runtime'] с помощью метода apply()"
      ],
      "metadata": {
        "id": "_8glouCioP_6"
      }
    },
    {
      "cell_type": "code",
      "source": [
        "run_clear = dataset['runtime'].apply(clear_runtime)\n",
        "run_clear"
      ],
      "metadata": {
        "id": "vNc3QynOos0-",
        "colab": {
          "base_uri": "https://localhost:8080/"
        },
        "outputId": "1bd77e12-d37b-484f-cc8b-af4b7dceff59"
      },
      "execution_count": 50,
      "outputs": [
        {
          "output_type": "execute_result",
          "data": {
            "text/plain": [
              "0       142\n",
              "1       152\n",
              "2       148\n",
              "3       139\n",
              "4       154\n",
              "       ... \n",
              "4995    102\n",
              "4996     94\n",
              "4997      0\n",
              "4998     92\n",
              "4999    120\n",
              "Name: runtime, Length: 5000, dtype: int64"
            ]
          },
          "metadata": {},
          "execution_count": 50
        }
      ]
    },
    {
      "cell_type": "markdown",
      "source": [
        "Создайте столбец runtime_clear в исходном датасете, применив функцию к признаку runtime"
      ],
      "metadata": {
        "id": "Id4WMbV5odI5"
      }
    },
    {
      "cell_type": "code",
      "source": [
        "dataset['runtime_clear'] = dataset['runtime'].apply(clear_runtime)"
      ],
      "metadata": {
        "id": "z134V_42pGVH"
      },
      "execution_count": 51,
      "outputs": []
    },
    {
      "cell_type": "markdown",
      "source": [
        "Выведите Series ['runtime_clear'] для оценки результата"
      ],
      "metadata": {
        "id": "s3olTg3PopAk"
      }
    },
    {
      "cell_type": "code",
      "source": [
        "dataset['runtime_clear']"
      ],
      "metadata": {
        "id": "a2qhTdfqpNZX",
        "colab": {
          "base_uri": "https://localhost:8080/"
        },
        "outputId": "850f981b-6145-47a2-93b3-b60f5ac8d0aa"
      },
      "execution_count": 52,
      "outputs": [
        {
          "output_type": "execute_result",
          "data": {
            "text/plain": [
              "0       142\n",
              "1       152\n",
              "2       148\n",
              "3       139\n",
              "4       154\n",
              "       ... \n",
              "4995    102\n",
              "4996     94\n",
              "4997      0\n",
              "4998     92\n",
              "4999    120\n",
              "Name: runtime_clear, Length: 5000, dtype: int64"
            ]
          },
          "metadata": {},
          "execution_count": 52
        }
      ]
    },
    {
      "cell_type": "markdown",
      "source": [
        "По индексу 4997, где было аномальное значение, теперь на первый взгляд пустота. Проверьте, так ли это, с помощью метода isna()"
      ],
      "metadata": {
        "id": "EapFUrJwowuH"
      }
    },
    {
      "cell_type": "code",
      "source": [
        "dataset['runtime_clear'].isna()"
      ],
      "metadata": {
        "id": "0vz9e_cDqNPW",
        "colab": {
          "base_uri": "https://localhost:8080/"
        },
        "outputId": "e432fe17-4c11-4cfa-8e6e-15284a19b5c0"
      },
      "execution_count": 53,
      "outputs": [
        {
          "output_type": "execute_result",
          "data": {
            "text/plain": [
              "0       False\n",
              "1       False\n",
              "2       False\n",
              "3       False\n",
              "4       False\n",
              "        ...  \n",
              "4995    False\n",
              "4996    False\n",
              "4997    False\n",
              "4998    False\n",
              "4999    False\n",
              "Name: runtime_clear, Length: 5000, dtype: bool"
            ]
          },
          "metadata": {},
          "execution_count": 53
        }
      ]
    },
    {
      "cell_type": "markdown",
      "source": [
        "Количество пустых полей - 0... Посмотрите поближе, что же на самом деле записано в данном поле с помощью индексации датасет['столбец'][индекс]"
      ],
      "metadata": {
        "id": "uAKaRobspWFO"
      }
    },
    {
      "cell_type": "code",
      "source": [
        "dataset['runtime_clear'][4997]"
      ],
      "metadata": {
        "id": "iRzRAGhDpPMa",
        "colab": {
          "base_uri": "https://localhost:8080/"
        },
        "outputId": "5e122952-3dde-42de-c376-a03ec03f5ce3"
      },
      "execution_count": 54,
      "outputs": [
        {
          "output_type": "execute_result",
          "data": {
            "text/plain": [
              "0"
            ]
          },
          "metadata": {},
          "execution_count": 54
        }
      ]
    },
    {
      "cell_type": "markdown",
      "source": [
        "Записано нулевое строковое значение. Убедитесь в этом, проверив тип данных с помощью функции type()"
      ],
      "metadata": {
        "id": "MPmEnBmBpwMs"
      }
    },
    {
      "cell_type": "code",
      "source": [
        "type(dataset['runtime_clear'][4997])"
      ],
      "metadata": {
        "id": "irGF6aBKpoYl",
        "colab": {
          "base_uri": "https://localhost:8080/"
        },
        "outputId": "8bec81ac-1641-48ff-beae-a40a8e832e8a"
      },
      "execution_count": 55,
      "outputs": [
        {
          "output_type": "execute_result",
          "data": {
            "text/plain": [
              "numpy.int64"
            ]
          },
          "metadata": {},
          "execution_count": 55
        }
      ]
    },
    {
      "cell_type": "markdown",
      "source": [
        "Действительно, это строковое значение. Отфильтруйте датасет, исключив все такие значения с помощью оператора !="
      ],
      "metadata": {
        "id": "7aXYnR-YqCwx"
      }
    },
    {
      "cell_type": "code",
      "source": [
        "dataset = dataset[dataset['runtime_clear']!='0']"
      ],
      "metadata": {
        "id": "TbbsFoD2psjm"
      },
      "execution_count": 56,
      "outputs": []
    },
    {
      "cell_type": "markdown",
      "source": [
        "Оцените размеры датасета с помощью атрибута shape"
      ],
      "metadata": {
        "id": "K63T4u-mqc9s"
      }
    },
    {
      "cell_type": "code",
      "source": [
        "dataset.shape"
      ],
      "metadata": {
        "id": "graH8Xv7qq9J",
        "colab": {
          "base_uri": "https://localhost:8080/"
        },
        "outputId": "640ccfea-37f0-4925-8958-37921cfec5b4"
      },
      "execution_count": 58,
      "outputs": [
        {
          "output_type": "execute_result",
          "data": {
            "text/plain": [
              "(5000, 12)"
            ]
          },
          "metadata": {},
          "execution_count": 58
        }
      ]
    },
    {
      "cell_type": "markdown",
      "source": [
        "А также проверьте тип данных с помощью метода info()"
      ],
      "metadata": {
        "id": "najkeUhhqmaz"
      }
    },
    {
      "cell_type": "code",
      "source": [
        "dataset.info()"
      ],
      "metadata": {
        "id": "1f1SdjY5quE6",
        "colab": {
          "base_uri": "https://localhost:8080/"
        },
        "outputId": "a397a063-c21b-4849-84a1-971e20e82aed"
      },
      "execution_count": 59,
      "outputs": [
        {
          "output_type": "stream",
          "name": "stdout",
          "text": [
            "<class 'pandas.core.frame.DataFrame'>\n",
            "Int64Index: 5000 entries, 0 to 4999\n",
            "Data columns (total 12 columns):\n",
            " #   Column         Non-Null Count  Dtype  \n",
            "---  ------         --------------  -----  \n",
            " 0   poster         5000 non-null   object \n",
            " 1   title          5000 non-null   object \n",
            " 2   certificate    5000 non-null   object \n",
            " 3   runtime        5000 non-null   object \n",
            " 4   genre          4970 non-null   object \n",
            " 5   rating         5000 non-null   float64\n",
            " 6   about          4986 non-null   object \n",
            " 7   director       5000 non-null   object \n",
            " 8   stars          5000 non-null   object \n",
            " 9   votes          5000 non-null   object \n",
            " 10  gross_earn     4585 non-null   object \n",
            " 11  runtime_clear  5000 non-null   int64  \n",
            "dtypes: float64(1), int64(1), object(10)\n",
            "memory usage: 507.8+ KB\n"
          ]
        }
      ]
    },
    {
      "cell_type": "markdown",
      "source": [
        "Приведите признак runtime_clear в формат int с помощью метода astype()"
      ],
      "metadata": {
        "id": "gqZC_f6-qxx5"
      }
    },
    {
      "cell_type": "code",
      "source": [
        "dataset['runtime_clear'] ="
      ],
      "metadata": {
        "id": "VqTGqYK3n_BJ"
      },
      "execution_count": null,
      "outputs": []
    },
    {
      "cell_type": "markdown",
      "source": [
        "Проверьте тип данных с помощью метода info()"
      ],
      "metadata": {
        "id": "CEPHEs3-q_Bq"
      }
    },
    {
      "cell_type": "code",
      "source": [
        "dataset"
      ],
      "metadata": {
        "id": "1HBemaU4rBcG"
      },
      "execution_count": null,
      "outputs": []
    },
    {
      "cell_type": "markdown",
      "source": [
        "Тип данных - int64. Все получилось!"
      ],
      "metadata": {
        "id": "adSAGmwErDCR"
      }
    },
    {
      "cell_type": "markdown",
      "source": [
        "### *5.2. gross_earn*"
      ],
      "metadata": {
        "id": "a0otq-lsrRQn"
      }
    },
    {
      "cell_type": "markdown",
      "source": [
        "По аналогии приведите признак gross_earn к числовому типу данных"
      ],
      "metadata": {
        "id": "G0BQ0qP-rM_w"
      }
    },
    {
      "cell_type": "markdown",
      "source": [
        "Выведите Series ['gross_earn'] для детального просмотра данных"
      ],
      "metadata": {
        "id": "eBUu_knwrV3n"
      }
    },
    {
      "cell_type": "code",
      "execution_count": 60,
      "metadata": {
        "id": "a5tCaUfZrotU",
        "colab": {
          "base_uri": "https://localhost:8080/"
        },
        "outputId": "a1ff8e02-78a9-438c-83d6-c3e6fb8a92a9"
      },
      "outputs": [
        {
          "output_type": "execute_result",
          "data": {
            "text/plain": [
              "0        $28.34M\n",
              "1       $534.86M\n",
              "2       $292.58M\n",
              "3        $37.03M\n",
              "4       $107.93M\n",
              "          ...   \n",
              "4995      $9.40M\n",
              "4996         NaN\n",
              "4997         NaN\n",
              "4998      $6.67M\n",
              "4999      $8.20M\n",
              "Name: gross_earn, Length: 5000, dtype: object"
            ]
          },
          "metadata": {},
          "execution_count": 60
        }
      ],
      "source": [
        "dataset['gross_earn']"
      ]
    },
    {
      "cell_type": "markdown",
      "source": [
        "Напишите функцию, которая исключит нецифровые символы с помощью регулярных выражений"
      ],
      "metadata": {
        "id": "uqKoqt1HrZnd"
      }
    },
    {
      "cell_type": "code",
      "source": [
        "def clear_gross_earn(gross_earn):"
      ],
      "metadata": {
        "id": "HyxrxpfProtX"
      },
      "execution_count": null,
      "outputs": []
    },
    {
      "cell_type": "markdown",
      "source": [
        "Примените функцию к Series ['gross_earn'] с помощью метода apply()"
      ],
      "metadata": {
        "id": "4xqDl81prgBz"
      }
    },
    {
      "cell_type": "code",
      "source": [
        "dataset['gross_earn']"
      ],
      "metadata": {
        "id": "fWln7bTSrotY"
      },
      "execution_count": null,
      "outputs": []
    },
    {
      "cell_type": "markdown",
      "source": [
        "Ошибка TypeError, связанная с тем, что в какой-то момент в функцию попали пропущенные значения, которые она не смогла обработать"
      ],
      "metadata": {
        "id": "RAL5uqpnrmhY"
      }
    },
    {
      "cell_type": "markdown",
      "source": [
        "Оцените количество пропущенных значений по признаку с помощью метода isna() в связке с методом sum()"
      ],
      "metadata": {
        "id": "c_x8NDojr3rl"
      }
    },
    {
      "cell_type": "code",
      "source": [
        "dataset['gross_earn']"
      ],
      "metadata": {
        "id": "AXWG2J1ErzQT"
      },
      "execution_count": null,
      "outputs": []
    },
    {
      "cell_type": "markdown",
      "source": [
        "Необходимо добавить в функцию обработку пустых значений. Для этого импортируйте библиотеку numpy с коротким наименованием np"
      ],
      "metadata": {
        "id": "GS11wCDTsAbW"
      }
    },
    {
      "cell_type": "code",
      "source": [
        "import"
      ],
      "metadata": {
        "id": "hZP7gii2w0lN"
      },
      "execution_count": null,
      "outputs": []
    },
    {
      "cell_type": "markdown",
      "source": [
        "Добавьте в функцию проверку на пустые значения с помощью метода pandas pd.isna(). В случае пропуска она должна вернуть пустое значение np.nan; в ином случае - сохранить алгоритм, написанный ранее"
      ],
      "metadata": {
        "id": "n8YBVKFXsNY-"
      }
    },
    {
      "cell_type": "code",
      "source": [
        "def clear_gross_earn(gross_earn):\n",
        "  if pd.isna(gross_earn):\n",
        "    return np.nan\n",
        "  else:\n",
        "    return re.sub('\\D', '', gross_earn)"
      ],
      "metadata": {
        "id": "herSamxHwxNo"
      },
      "execution_count": null,
      "outputs": []
    },
    {
      "cell_type": "markdown",
      "source": [
        "Примените функцию к Series ['gross_earn'] с помощью метода apply()"
      ],
      "metadata": {
        "id": "N1QwLObasy1l"
      }
    },
    {
      "cell_type": "code",
      "source": [
        "dataset['gross_earn']"
      ],
      "metadata": {
        "id": "A6_Q4diKxC8V"
      },
      "execution_count": null,
      "outputs": []
    },
    {
      "cell_type": "markdown",
      "source": [
        "Создайте столбец gross_earn в исходном датасете, применив функцию к признаку gross_earn"
      ],
      "metadata": {
        "id": "de36T4hks3v_"
      }
    },
    {
      "cell_type": "code",
      "source": [
        "dataset['gross_earn_clear'] ="
      ],
      "metadata": {
        "id": "F_ZKUk3xrotZ"
      },
      "execution_count": null,
      "outputs": []
    },
    {
      "cell_type": "markdown",
      "source": [
        "Выведите Series ['gross_earn_clear'] для оценки результата"
      ],
      "metadata": {
        "id": "jGMzKot8tBji"
      }
    },
    {
      "cell_type": "code",
      "source": [
        "dataset['gross_earn_clear']"
      ],
      "metadata": {
        "id": "YC4Gmts7rotZ"
      },
      "execution_count": null,
      "outputs": []
    },
    {
      "cell_type": "markdown",
      "source": [
        "Приведите признак gross_earn_clear в формат int с помощью метода astype()"
      ],
      "metadata": {
        "id": "ezGCPh3rtMU_"
      }
    },
    {
      "cell_type": "code",
      "source": [
        "dataset['gross_earn_clear'] ="
      ],
      "metadata": {
        "id": "8SCkBUOMrotb"
      },
      "execution_count": null,
      "outputs": []
    },
    {
      "cell_type": "markdown",
      "source": [
        "Ошибка ValueError, связанная с тем, что метод не может перевести значения NaN (которые имеют тип данных float) в формат int. Вместо классического питоновского типа данных 'int' примените тип данных 'Int64', используемый NumPy и Pandas"
      ],
      "metadata": {
        "id": "5hq8CSHQtUdp"
      }
    },
    {
      "cell_type": "code",
      "source": [
        "dataset['gross_earn_clear'] ="
      ],
      "metadata": {
        "id": "hjAP_2NuzRiI"
      },
      "execution_count": null,
      "outputs": []
    },
    {
      "cell_type": "markdown",
      "source": [
        "Код был выполнен. Оцените результат, детально рассмотрев Series ['gross_earn_clear']"
      ],
      "metadata": {
        "id": "XEE1rc2Vuo78"
      }
    },
    {
      "cell_type": "code",
      "source": [
        "dataset['gross_earn_clear']"
      ],
      "metadata": {
        "id": "0LpWHrxJzYl7"
      },
      "execution_count": null,
      "outputs": []
    },
    {
      "cell_type": "markdown",
      "source": [
        "Выведите информацию о датасете с помощью метода info()"
      ],
      "metadata": {
        "id": "pU_iMRmhu19Z"
      }
    },
    {
      "cell_type": "code",
      "source": [
        "dataset"
      ],
      "metadata": {
        "id": "mONxpon3rotd"
      },
      "execution_count": null,
      "outputs": []
    },
    {
      "cell_type": "markdown",
      "source": [
        "Все получилось: признаки runtime и gross_earn в числовом формате!"
      ],
      "metadata": {
        "id": "edPJiFwmu6ta"
      }
    },
    {
      "cell_type": "markdown",
      "source": [
        "## 6. Сортировка по рейтингу"
      ],
      "metadata": {
        "id": "Bd-m3BJcz06-"
      }
    },
    {
      "cell_type": "markdown",
      "source": [
        "Отсортируйте датасет в порядке убывания рейтинга фильмов (rating), применив метод sort_values() с переданным в него параметром ascending=False"
      ],
      "metadata": {
        "id": "gclevZr3vDaj"
      }
    },
    {
      "cell_type": "code",
      "source": [
        "sorted_dataset =\n",
        "sorted_dataset.head()"
      ],
      "metadata": {
        "id": "UXanY_pIrDoo"
      },
      "execution_count": null,
      "outputs": []
    },
    {
      "cell_type": "markdown",
      "source": [
        "## 7. Переопределение индексов"
      ],
      "metadata": {
        "id": "vAJp76vN0gTL"
      }
    },
    {
      "cell_type": "markdown",
      "source": [
        "Переопределите индексы по порядку с помощью метода reset_index() с переданными в него параметрами drop=True для удаления предыдущего столбца индексов и inplace=True для автоматической перезаписи таблицы"
      ],
      "metadata": {
        "id": "jTBRnhPhvcoT"
      }
    },
    {
      "cell_type": "code",
      "source": [
        "sorted_dataset.reset_index(drop=True, inplace=True)\n",
        "sorted_dataset.head()"
      ],
      "metadata": {
        "id": "YK8ZVEoB0L9o"
      },
      "execution_count": null,
      "outputs": []
    },
    {
      "cell_type": "markdown",
      "source": [
        "## 8. Сохранение датасета"
      ],
      "metadata": {
        "id": "rfhui4VDeBZ9"
      }
    },
    {
      "cell_type": "markdown",
      "source": [
        "Сохраните датасет под названием movies_clean в формате csv и скачайте его себе на ПК. Он Понадобится Вам при дальнейшем выполнении тренировочных заданий"
      ],
      "metadata": {
        "id": "BM47OTjHv1K_"
      }
    },
    {
      "cell_type": "code",
      "source": [
        "sorted_dataset.to"
      ],
      "metadata": {
        "id": "mQE36Xmz0z_6"
      },
      "execution_count": null,
      "outputs": []
    },
    {
      "cell_type": "markdown",
      "source": [
        "**Поздравляем! Часть 1 задания по модулю EDA выполнена! Далее Вас ожидает разведочный анализ данных!**"
      ],
      "metadata": {
        "id": "jqnyCEDkwGvN"
      }
    }
  ],
  "metadata": {
    "colab": {
      "provenance": [],
      "include_colab_link": true
    },
    "kernelspec": {
      "display_name": "Python 3",
      "name": "python3"
    },
    "language_info": {
      "name": "python"
    }
  },
  "nbformat": 4,
  "nbformat_minor": 0
}